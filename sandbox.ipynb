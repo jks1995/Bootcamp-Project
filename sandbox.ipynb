{
 "cells": [
  {
   "cell_type": "code",
   "execution_count": 102,
   "metadata": {},
   "outputs": [],
   "source": [
    "import mysql.connector\n",
    "import pandas as pd\n",
    "import csv\n",
    "from datetime import datetime\n",
    "from uszipcode import ZipcodeSearchEngine\n",
    "from pprint import pprint\n",
    "\n",
    "# credentials for connecting to the MySQL db\n",
    "import json\n",
    "db_creds = json.load(open('hidden/creds.json'))\n",
    "\n",
    "def getDBCursor(creds):\n",
    "    \"\"\"\n",
    "    Get the cursor for the db to perform transaction.\n",
    "\n",
    "    Input: creds (dictionary of login credentials)\n",
    "    Output: MySQL Connection, MySQl cursor object\n",
    "    \"\"\"\n",
    "    cnx = mysql.connector.connect(**creds)\n",
    "    return cnx, cnx.cursor()\n",
    "\n",
    "def queryDB(cursor, query):\n",
    "    \"\"\"\n",
    "    Execute a sql query.\n",
    "\n",
    "    Input: cursor (MySQL cursor object), query (string of sql query)\n",
    "    Output: dictionary containing the lines of the query\n",
    "    \"\"\"\n",
    "    cursor.execute(query)\n",
    "    return cursor.fetchall()\n",
    "\n",
    "\n",
    "def executeQuery(creds, query):\n",
    "    \"\"\"\n",
    "    Executes a query by connecting, querying, and closes the db connection\n",
    "\n",
    "    Input: creds (db login credentials), query (string of sql query)\n",
    "    Output: dictionary of query results\n",
    "    \"\"\"\n",
    "    result = None\n",
    "    try:\n",
    "        conn, cursor = getDBCursor(creds)\n",
    "        result = queryDB(cursor, query)\n",
    "    except Error as e:\n",
    "        print(e)\n",
    "    finally:\n",
    "        conn.close()\n",
    "        cursor.close()\n",
    "    return result\n",
    "\n",
    "def getDataFrame(filename):\n",
    "    \"\"\"\n",
    "    \"\"\"\n",
    "    \n",
    "def cleanData(filename):\n",
    "    \"\"\"\n",
    "    Create a pandas dataframe from a file. Clean up the dates.\n",
    "    \n",
    "    Input: csv filename (str)\n",
    "    Output: pandas dataframe object\n",
    "    \"\"\"\n",
    "    try:\n",
    "        df = pd.read_csv(filename)\n",
    "    except IOError:\n",
    "        print 'Use a csv file.'\n",
    "        \n",
    "    for col in list(df.columns.values):\n",
    "        if col.endswith('_d'):\n",
    "            try: # exception thrown when nan's occure\n",
    "                df[col] = df[col].apply(lambda x: datetime.strptime(x[:8], '%Y%d%m'))\n",
    "            except Exception as e:\n",
    "                continue\n",
    "    return df"
   ]
  },
  {
   "cell_type": "code",
   "execution_count": 4,
   "metadata": {
    "collapsed": true
   },
   "outputs": [],
   "source": [
    "col_names = executeQuery(db_creds, \"describe Bootcamp.Postal_Codes_Tbl\")\n",
    "data = executeQuery(db_creds, \"select * from Bootcamp.Postal_Codes_Tbl limit 1\")"
   ]
  },
  {
   "cell_type": "code",
   "execution_count": 5,
   "metadata": {
    "collapsed": true
   },
   "outputs": [],
   "source": [
    "x = []\n",
    "for i in col_names:\n",
    "    x.append(str(i[0]))\n",
    "y = []\n",
    "for i in col_names:\n",
    "    y.append(str(i[1]))\n",
    "z = []\n",
    "for i in data[0]:\n",
    "    z.append(str(i))"
   ]
  },
  {
   "cell_type": "code",
   "execution_count": 6,
   "metadata": {},
   "outputs": [
    {
     "data": {
      "text/plain": [
       "[(u'210',\n",
       "  u'Portsmouth',\n",
       "  u'New Hampshire',\n",
       "  u'NH',\n",
       "  u'Rockingham',\n",
       "  u'43.0059',\n",
       "  u'-71.0132')]"
      ]
     },
     "execution_count": 6,
     "metadata": {},
     "output_type": "execute_result"
    }
   ],
   "source": [
    "data"
   ]
  },
  {
   "cell_type": "code",
   "execution_count": 90,
   "metadata": {
    "collapsed": true
   },
   "outputs": [],
   "source": [
    "f = open('data_info.csv', 'w')"
   ]
  },
  {
   "cell_type": "code",
   "execution_count": 91,
   "metadata": {
    "collapsed": true
   },
   "outputs": [],
   "source": [
    "f.write(','.join(x))\n",
    "f.write('\\n')\n",
    "f.write(','.join(y))\n",
    "f.write('\\n')\n",
    "f.write(','.join(z))"
   ]
  },
  {
   "cell_type": "code",
   "execution_count": 92,
   "metadata": {
    "collapsed": true
   },
   "outputs": [],
   "source": [
    "f.close()"
   ]
  },
  {
   "cell_type": "code",
   "execution_count": 32,
   "metadata": {},
   "outputs": [],
   "source": [
    "i = 0\n",
    "row = None\n",
    "with open('YYYY_Data_datatype.csv') as f:\n",
    "    for line in f:\n",
    "        if i == 3:\n",
    "            row = line\n",
    "            break\n",
    "        i += 1\n",
    "row = row.strip().split(',')"
   ]
  },
  {
   "cell_type": "code",
   "execution_count": 35,
   "metadata": {},
   "outputs": [],
   "source": [
    "dtypes = ['double', 'int', 'date']\n",
    "type_array = []\n",
    "to_add = None\n",
    "for i in range(len(row)):\n",
    "    if i == 0: \n",
    "        continue\n",
    "    to_add = row[i] if row[i] in dtypes else ''\n",
    "    type_array.append(to_add)"
   ]
  },
  {
   "cell_type": "code",
   "execution_count": 68,
   "metadata": {
    "collapsed": true
   },
   "outputs": [],
   "source": [
    "df = pd.read_csv('2008_data.csv')"
   ]
  },
  {
   "cell_type": "code",
   "execution_count": 53,
   "metadata": {},
   "outputs": [],
   "source": [
    "membs = {}\n",
    "for x in list(df.columns.values):\n",
    "    membs[x] = df[x].unique()"
   ]
  },
  {
   "cell_type": "code",
   "execution_count": 57,
   "metadata": {},
   "outputs": [],
   "source": [
    "with open('2008_data_unique_vals.csv', 'w') as f:\n",
    "    w = csv.writer(f)\n",
    "    w.writerows(membs.items())"
   ]
  },
  {
   "cell_type": "code",
   "execution_count": 70,
   "metadata": {},
   "outputs": [
    {
     "name": "stdout",
     "output_type": "stream",
     "text": [
      "issue_d\n",
      "last_pymnt_d\n",
      "next_pymnt_d\n"
     ]
    }
   ],
   "source": [
    "df = pd.read_csv('2008_data.csv')\n",
    "for col in list(df.columns.values):\n",
    "    if col.endswith('_d'):\n",
    "        try: # exception thrown when nan's occure\n",
    "            df[col] = df[col].apply(lambda x: datetime.strptime(x[:8], '%Y%d%m'))\n",
    "        except Exception as e:\n",
    "            print col"
   ]
  },
  {
   "cell_type": "code",
   "execution_count": 72,
   "metadata": {},
   "outputs": [
    {
     "data": {
      "text/html": [
       "<div>\n",
       "<style scoped>\n",
       "    .dataframe tbody tr th:only-of-type {\n",
       "        vertical-align: middle;\n",
       "    }\n",
       "\n",
       "    .dataframe tbody tr th {\n",
       "        vertical-align: top;\n",
       "    }\n",
       "\n",
       "    .dataframe thead th {\n",
       "        text-align: right;\n",
       "    }\n",
       "</style>\n",
       "<table border=\"1\" class=\"dataframe\">\n",
       "  <thead>\n",
       "    <tr style=\"text-align: right;\">\n",
       "      <th></th>\n",
       "      <th>id</th>\n",
       "      <th>member_id</th>\n",
       "      <th>loan_amnt</th>\n",
       "      <th>funded_amnt</th>\n",
       "      <th>funded_amnt_inv</th>\n",
       "      <th>term</th>\n",
       "      <th>int_rate</th>\n",
       "      <th>installment</th>\n",
       "      <th>grade</th>\n",
       "      <th>sub_grade</th>\n",
       "      <th>...</th>\n",
       "      <th>sub_grade_num</th>\n",
       "      <th>delinq_2yrs_zero</th>\n",
       "      <th>pub_rec_zero</th>\n",
       "      <th>collections_12_mths_zero</th>\n",
       "      <th>short_emp</th>\n",
       "      <th>payment_inc_ratio</th>\n",
       "      <th>final_d</th>\n",
       "      <th>last_delinq_none</th>\n",
       "      <th>last_record_none</th>\n",
       "      <th>last_major_derog_none</th>\n",
       "    </tr>\n",
       "  </thead>\n",
       "  <tbody>\n",
       "    <tr>\n",
       "      <th>2388</th>\n",
       "      <td>369630</td>\n",
       "      <td>385659</td>\n",
       "      <td>2000</td>\n",
       "      <td>2000</td>\n",
       "      <td>1800</td>\n",
       "      <td>36 months</td>\n",
       "      <td>8.00</td>\n",
       "      <td>62.68</td>\n",
       "      <td>A</td>\n",
       "      <td>A3</td>\n",
       "      <td>...</td>\n",
       "      <td>0.6</td>\n",
       "      <td>1</td>\n",
       "      <td>1</td>\n",
       "      <td>1</td>\n",
       "      <td>1</td>\n",
       "      <td>1.50432</td>\n",
       "      <td>2011-01-12</td>\n",
       "      <td>1</td>\n",
       "      <td>1</td>\n",
       "      <td>1</td>\n",
       "    </tr>\n",
       "    <tr>\n",
       "      <th>2389</th>\n",
       "      <td>369673</td>\n",
       "      <td>385732</td>\n",
       "      <td>15000</td>\n",
       "      <td>15000</td>\n",
       "      <td>5522</td>\n",
       "      <td>36 months</td>\n",
       "      <td>12.84</td>\n",
       "      <td>504.27</td>\n",
       "      <td>C</td>\n",
       "      <td>C2</td>\n",
       "      <td>...</td>\n",
       "      <td>0.4</td>\n",
       "      <td>1</td>\n",
       "      <td>1</td>\n",
       "      <td>1</td>\n",
       "      <td>0</td>\n",
       "      <td>3.31575</td>\n",
       "      <td>2011-01-12</td>\n",
       "      <td>1</td>\n",
       "      <td>1</td>\n",
       "      <td>1</td>\n",
       "    </tr>\n",
       "    <tr>\n",
       "      <th>2390</th>\n",
       "      <td>369701</td>\n",
       "      <td>385797</td>\n",
       "      <td>10000</td>\n",
       "      <td>10000</td>\n",
       "      <td>3808</td>\n",
       "      <td>36 months</td>\n",
       "      <td>12.53</td>\n",
       "      <td>334.67</td>\n",
       "      <td>C</td>\n",
       "      <td>C1</td>\n",
       "      <td>...</td>\n",
       "      <td>0.2</td>\n",
       "      <td>1</td>\n",
       "      <td>1</td>\n",
       "      <td>1</td>\n",
       "      <td>0</td>\n",
       "      <td>3.52284</td>\n",
       "      <td>2011-01-12</td>\n",
       "      <td>1</td>\n",
       "      <td>1</td>\n",
       "      <td>1</td>\n",
       "    </tr>\n",
       "    <tr>\n",
       "      <th>2391</th>\n",
       "      <td>369713</td>\n",
       "      <td>385363</td>\n",
       "      <td>8600</td>\n",
       "      <td>8600</td>\n",
       "      <td>1932</td>\n",
       "      <td>36 months</td>\n",
       "      <td>11.26</td>\n",
       "      <td>282.63</td>\n",
       "      <td>B</td>\n",
       "      <td>B2</td>\n",
       "      <td>...</td>\n",
       "      <td>0.4</td>\n",
       "      <td>1</td>\n",
       "      <td>1</td>\n",
       "      <td>1</td>\n",
       "      <td>0</td>\n",
       "      <td>6.78312</td>\n",
       "      <td>2011-01-12</td>\n",
       "      <td>0</td>\n",
       "      <td>1</td>\n",
       "      <td>1</td>\n",
       "    </tr>\n",
       "    <tr>\n",
       "      <th>2392</th>\n",
       "      <td>369725</td>\n",
       "      <td>385844</td>\n",
       "      <td>15000</td>\n",
       "      <td>15000</td>\n",
       "      <td>6440</td>\n",
       "      <td>36 months</td>\n",
       "      <td>13.79</td>\n",
       "      <td>511.14</td>\n",
       "      <td>C</td>\n",
       "      <td>C5</td>\n",
       "      <td>...</td>\n",
       "      <td>1.0</td>\n",
       "      <td>1</td>\n",
       "      <td>1</td>\n",
       "      <td>1</td>\n",
       "      <td>0</td>\n",
       "      <td>1.90482</td>\n",
       "      <td>2011-01-12</td>\n",
       "      <td>0</td>\n",
       "      <td>1</td>\n",
       "      <td>1</td>\n",
       "    </tr>\n",
       "  </tbody>\n",
       "</table>\n",
       "<p>5 rows × 52 columns</p>\n",
       "</div>"
      ],
      "text/plain": [
       "          id  member_id  loan_amnt  funded_amnt  funded_amnt_inv        term  \\\n",
       "2388  369630     385659       2000         2000             1800   36 months   \n",
       "2389  369673     385732      15000        15000             5522   36 months   \n",
       "2390  369701     385797      10000        10000             3808   36 months   \n",
       "2391  369713     385363       8600         8600             1932   36 months   \n",
       "2392  369725     385844      15000        15000             6440   36 months   \n",
       "\n",
       "      int_rate  installment grade sub_grade          ...            \\\n",
       "2388      8.00        62.68     A        A3          ...             \n",
       "2389     12.84       504.27     C        C2          ...             \n",
       "2390     12.53       334.67     C        C1          ...             \n",
       "2391     11.26       282.63     B        B2          ...             \n",
       "2392     13.79       511.14     C        C5          ...             \n",
       "\n",
       "     sub_grade_num delinq_2yrs_zero pub_rec_zero collections_12_mths_zero  \\\n",
       "2388           0.6                1            1                        1   \n",
       "2389           0.4                1            1                        1   \n",
       "2390           0.2                1            1                        1   \n",
       "2391           0.4                1            1                        1   \n",
       "2392           1.0                1            1                        1   \n",
       "\n",
       "     short_emp payment_inc_ratio    final_d last_delinq_none  \\\n",
       "2388         1           1.50432 2011-01-12                1   \n",
       "2389         0           3.31575 2011-01-12                1   \n",
       "2390         0           3.52284 2011-01-12                1   \n",
       "2391         0           6.78312 2011-01-12                0   \n",
       "2392         0           1.90482 2011-01-12                0   \n",
       "\n",
       "      last_record_none  last_major_derog_none  \n",
       "2388                 1                      1  \n",
       "2389                 1                      1  \n",
       "2390                 1                      1  \n",
       "2391                 1                      1  \n",
       "2392                 1                      1  \n",
       "\n",
       "[5 rows x 52 columns]"
      ]
     },
     "execution_count": 72,
     "metadata": {},
     "output_type": "execute_result"
    }
   ],
   "source": [
    "df.tail()"
   ]
  },
  {
   "cell_type": "code",
   "execution_count": 98,
   "metadata": {},
   "outputs": [],
   "source": [
    "\n",
    "search = ZipcodeSearchEngine()\n",
    "zipcode = search.by_coordinate(43.0059,-71.0132, returns=1)"
   ]
  },
  {
   "cell_type": "code",
   "execution_count": 99,
   "metadata": {},
   "outputs": [
    {
     "name": "stdout",
     "output_type": "stream",
     "text": [
      "{\"City\": \"Exeter\", \"Density\": 431.7058096415328, \"HouseOfUnits\": 8668, \"LandArea\": 48.54, \"Latitude\": 42.9996568, \"Longitude\": -70.9784562, \"NEBoundLatitude\": 43.033860100000005, \"NEBoundLongitude\": -70.88238259999999, \"Population\": 20955, \"SWBoundLatitude\": 42.89838579999999, \"SWBoungLongitude\": -71.0894541, \"State\": \"NH\", \"TotalWages\": 571105228.0, \"WaterArea\": 0.61, \"Wealthy\": 27253.88823669769, \"Zipcode\": \"03833\", \"ZipcodeType\": \"Standard\"}\n"
     ]
    }
   ],
   "source": [
    "pprint(zipcode[0])"
   ]
  },
  {
   "cell_type": "code",
   "execution_count": 100,
   "metadata": {},
   "outputs": [
    {
     "name": "stdout",
     "output_type": "stream",
     "text": [
      "03833\n"
     ]
    }
   ],
   "source": [
    "for i in range(len(zipcode)):\n",
    "    print zipcode[i]['Zipcode']\n",
    "    "
   ]
  },
  {
   "cell_type": "code",
   "execution_count": null,
   "metadata": {
    "collapsed": true
   },
   "outputs": [],
   "source": []
  }
 ],
 "metadata": {
  "kernelspec": {
   "display_name": "Python 2",
   "language": "python",
   "name": "python2"
  },
  "language_info": {
   "codemirror_mode": {
    "name": "ipython",
    "version": 2
   },
   "file_extension": ".py",
   "mimetype": "text/x-python",
   "name": "python",
   "nbconvert_exporter": "python",
   "pygments_lexer": "ipython2",
   "version": "2.7.14"
  }
 },
 "nbformat": 4,
 "nbformat_minor": 2
}
