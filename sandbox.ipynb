{
 "cells": [
  {
   "cell_type": "code",
   "execution_count": 156,
   "metadata": {
    "collapsed": true
   },
   "outputs": [],
   "source": [
    "import mysql.connector\n",
    "import pandas as pd\n",
    "import csv\n",
    "from datetime import datetime\n",
    "from pprint import pprint\n",
    "from itertools import product\n",
    "\n",
    "# credentials for connecting to the MySQL db\n",
    "import json\n",
    "db_creds = json.load(open('hidden/creds.json'))\n",
    "\n",
    "grades = 'ABCDEFG'\n",
    "tmp_df = None\n",
    "\n",
    "def getDBCursor(creds):\n",
    "    \"\"\"\n",
    "    Get the cursor for the db to perform transaction.\n",
    "\n",
    "    Input: creds (dictionary of login credentials)\n",
    "    Output: MySQL Connection, MySQl cursor object\n",
    "    \"\"\"\n",
    "    cnx = mysql.connector.connect(**creds)\n",
    "    return cnx, cnx.cursor()\n",
    "\n",
    "def queryDB(cursor, query):\n",
    "    \"\"\"\n",
    "    Execute a sql query.\n",
    "\n",
    "    Input: cursor (MySQL cursor object), query (string of sql query)\n",
    "    Output: dictionary containing the lines of the query\n",
    "    \"\"\"\n",
    "    cursor.execute(query)\n",
    "    return cursor.fetchall()\n",
    "\n",
    "def getAllYearsData(conn, start_year, end_year):\n",
    "    \"\"\"\n",
    "    Get a dataframe with all the years data.\n",
    "    \n",
    "    Input: conn (db connection), start_year (int), end_year int)\n",
    "    Output: df (dataframe)\n",
    "    \"\"\"\n",
    "    df = pd.DataFrame()\n",
    "    for year in range(start_year, end_year + 1):\n",
    "        df = pd.concat([df, pd.read_sql('SELECT * FROM Bootcamp.{}_Data'.format(str(year)), con=conn)])\n",
    "    return df\n",
    "\n",
    "def getMemberInfo(conn):\n",
    "    \"\"\"\n",
    "    Get the membership information table in a dataframe\n",
    "    \n",
    "    Input: conn (db connection)\n",
    "    Output: dataframe\n",
    "    \"\"\"\n",
    "    return pd.read_sql('SELECT * FROM Bootcamp.Member_Information', con=conn)\n",
    "    \n",
    "def getBootcampData(creds, start_year, end_year):\n",
    "    \"\"\"\n",
    "    Input: creds (db credentials)\n",
    "    Output: dataframe with the combined member_id and year info\n",
    "    \"\"\"\n",
    "    cnx, curs = getDBCursor(creds)\n",
    "    year_df = getAllYearsData(cnx, start_year, end_year)\n",
    "    mem_df = getMemberInfo(cnx)\n",
    "    cnx.close()\n",
    "    curs.close()\n",
    "    # drop rows without a loan amount (ex. only a subset of the years is requested.)\n",
    "    df = pd.merge(year_df, mem_df, on='member_id', how='outer')\n",
    "    return dropNanRowsColSpecific(df, ['loan_amnt'])\n",
    "\n",
    "def executeQuery(creds, query):\n",
    "    \"\"\"\n",
    "    Executes a query by connecting, querying, and closes the db connection\n",
    "\n",
    "    Input: creds (db login credentials), query (string of sql query)\n",
    "    Output: dictionary of query results\n",
    "    \"\"\"\n",
    "    result = None\n",
    "    try:\n",
    "        conn, cursor = getDBCursor(creds)\n",
    "        result = queryDB(cursor, query)\n",
    "    except Error as e:\n",
    "        print(e)\n",
    "    finally:\n",
    "        conn.close()\n",
    "        cursor.close()\n",
    "    return result\n",
    "\n",
    "def getDataFrame(filename):\n",
    "    \"\"\"\n",
    "    Create a pandas dataframe from a file.\n",
    "    \n",
    "    Input: filename (csv file, str)\n",
    "    Output: pandas dataframe\n",
    "    \"\"\"\n",
    "    try:\n",
    "        df = pd.read_csv(filename)\n",
    "    except IOError:\n",
    "        print 'Use a csv file.'\n",
    "        \n",
    "    return df\n",
    "    \n",
    "def cleanData():\n",
    "    \"\"\"\n",
    "    Create a pandas dataframe from a file. Clean up the dates.\n",
    "    \n",
    "    Input: csv filename (str)\n",
    "    Output: pandas dataframe object\n",
    "    \"\"\"\n",
    "    df = getBootcampData(db_creds, 2007, 2009)\n",
    "    \n",
    "    # clean the rows that have incorrect amounts\n",
    "    df = fixFundedToApplied(df)\n",
    "    \n",
    "    # fix dates\n",
    "    for col in list(df.columns.values): \n",
    "        if col.endswith('_d') or col in ['earliest_cr_line']:\n",
    "            df[col] = df[col].apply(lambda x: cleanDate(x.strip()))\n",
    "                \n",
    "    # drop unneccessary columns\n",
    "    col_to_drop = ['id', 'loan_status', 'url', 'desc', 'title', 'revol_bal', 'revol_util', \n",
    "                   'policy_code', 'grade_num', 'sub_grade_num', 'mths_since_last_record',\n",
    "                  'collections_12_mths_zero', 'payment_inc_ratio', 'emp_title', 'emp_length']\n",
    "    df.drop(col_to_drop, axis=1, inplace=True)\n",
    "    \n",
    "    # fix employment length\n",
    "    df['emp_length'] = df['emp_length'].apply(lambda x: fixEmpLength(x))\n",
    "    \n",
    "    # fill nan's with specified values\n",
    "    nan_fill = {\n",
    "        'term': 0\n",
    "    }\n",
    "    df.fillna(nan_fill, inplace=True)\n",
    "    \n",
    "    df = fixTerm(df)\n",
    "    df = fixInitListStatus(df)\n",
    "#     df = fixFundedInvToAmount(df)\n",
    "    df = fixGrade(df)\n",
    "    df = fixIsIncV(df)\n",
    "    df = fixBinary01(df, 'inactive_loans')\n",
    "    df = fixBinary01(df, 'bad_loans')\n",
    "    df = fixBinary01(df, 'delinq_2yrs_zero')\n",
    "    df = fixBinary01(df, 'pub_rec_zero')\n",
    "    \n",
    "    return df\n",
    "\n",
    "def cleanDate(in_date):\n",
    "    if len(in_date) > 8:\n",
    "        return datetime.strptime(in_date[:8], '%Y%m%d')\n",
    "    else:\n",
    "        return ''\n",
    "    \n",
    "def dropNanRowsColSpecific(df, col_to_drop):\n",
    "    \"\"\"\n",
    "    Drop the rows from the df that have nulls in the specified columns.\n",
    "    \n",
    "    Input: df (dataframe), cols_to_drop (list of strings)\n",
    "    Output: df (dataframe)\n",
    "    \"\"\"\n",
    "    return df.dropna(subset=col_to_drop, how='any') # add inplace if needed\n",
    "\n",
    "def fixGrade(df):\n",
    "    \"\"\"\n",
    "    Remove grades outside of range a-g\n",
    "    Input: df (dataframe)\n",
    "    Output: dataframe\n",
    "    \"\"\"\n",
    "    df['grade'] = df['grade'].apply(lambda x: x.upper())\n",
    "    return df[df['grade'].isin(list(grades))]\n",
    "\n",
    "def fixTerm(df):\n",
    "    \"\"\"\n",
    "    Drop the month part of the term and cast as int.\n",
    "    \n",
    "    Input: df (dataframe)\n",
    "    Output: df (dataframe)\n",
    "    \"\"\"\n",
    "    df['term'] = df['term'].apply(lambda x: int(x.split()[0]))\n",
    "    return df\n",
    "\n",
    "def fixFundedToApplied(df):\n",
    "    \"\"\"\n",
    "    If funded > applied amount remove the record.\n",
    "    \n",
    "    Input: df (dataframe)\n",
    "    Output: df (dataframe)\n",
    "    \"\"\"\n",
    "    # only keep the records where they were funded less that they applied for\n",
    "    df = df[df['funded_amnt'] < 2* df['loan_amnt']]\n",
    "    return df[df['funded_amnt'] <= df['funded_amnt_inv']]\n",
    "\n",
    "def fixInitListStatus(df):\n",
    "    \"\"\"\n",
    "    Remove rows that aren't F or W\n",
    "    \n",
    "    Input: df (dataframe)\n",
    "    Output: df (dataframe)\n",
    "    \"\"\"\n",
    "    df['initial_list_status'] = df['initial_list_status'].apply(lambda x: x.upper())\n",
    "    return df[df['initial_list_status'].isin(['F', 'W'])]\n",
    "\n",
    "def fixEmpLength(value):\n",
    "    \"\"\"\n",
    "    Clean employment length, should only contain a numeric integer value\n",
    "    i.e. 10+ years transforms to 10\n",
    "         < 1 transforms to 1\n",
    "         \n",
    "    Input: value of cell (String)\n",
    "    Output: years of employment (Int)\n",
    "    \"\"\"\n",
    "    value = value.strip()\n",
    "    if value.startswith('< 1'):\n",
    "        return int(1)\n",
    "    if value.startswith('10') and value[2] == '+':\n",
    "        return int(10)\n",
    "    \n",
    "    splitVal = value.split(' ')\n",
    "    if (splitVal[0].isdigit()):\n",
    "        value = splitVal[0]\n",
    "        \n",
    "    return int(value)\n",
    "\n",
    "def fixSubGrade(df):\n",
    "    \"\"\"\n",
    "    Remove rows that don't have a subgrade A1,A2,A3,A4,A5,....,G1...G4,G5\n",
    "    \n",
    "    Input: df (dataframe)\n",
    "    Output: df (dataframe)\n",
    "    \"\"\"\n",
    "    sub_grades = [''.join([x[0], str(x[1])]) for x in product(grades, range(1,6))]\n",
    "    df['sub_grade'] = df['sub_grade'].apply(lambda x: x.upper()) # make everything uppercase\n",
    "    return df[df['sub_grade'].isin(sub_grade)]\n",
    "    \n",
    "def fixIsIncV(df):\n",
    "    \"\"\"\n",
    "    Remove if row doesn't have enumerated status.\n",
    "    \n",
    "    Input: df (dataframe)\n",
    "    Output: df (dataframe)\n",
    "    \"\"\"\n",
    "    return df[df['is_inc_v'].isin([\"Verified\", \"Source Verified\", \"Not Verified\"])]\n",
    "\n",
    "def fixPaymentPlan(df):\n",
    "    \"\"\"\n",
    "    Only leave boolean (val 'n', 'y').\n",
    "    \n",
    "    Input: df (dataframe)\n",
    "    Output: df (dataframe)\n",
    "    \"\"\"\n",
    "    df['pymnt_plan'] = df['pymnt_plan'].apply(lambda x: x.lower())\n",
    "    return df[df['pymnt_plan'].isin(['n', 'y'])]\n",
    "\n",
    "def fixPurpose(df):\n",
    "    \"\"\"\n",
    "    Only leave enumerated values. \n",
    "    \n",
    "    Input: df (dataframe)\n",
    "    Output: df (dataframe)\n",
    "    \"\"\"\n",
    "    purposes = [\"car\", \"credit_card\", \"other\", \"house\", \"debt_consolidation\",\n",
    "                \"home_improvement\", \"small_business\", \"medical\", \"vacation\",\n",
    "                \"moving\",\"wedding\",\"major_purchase\"]\n",
    "    return df[df['purpose'].isin(purposes)]\n",
    "\n",
    "def fixBinary01(df, col_name):\n",
    "    \"\"\"\n",
    "    Only leave boolean (val 0, 1).\n",
    "    \n",
    "    Input: df (dataframe)\n",
    "    Output: df (dataframe)\n",
    "    \"\"\"\n",
    "    df[col_name] = df[col_name].astype(int, errors='ignore')\n",
    "    return df[df[col_name].isin(range(2))]"
   ]
  },
  {
   "cell_type": "code",
   "execution_count": 2,
   "metadata": {
    "collapsed": true
   },
   "outputs": [],
   "source": [
    "col_names = executeQuery(db_creds, \"describe Bootcamp.Postal_Codes_Tbl\")\n",
    "data = executeQuery(db_creds, \"select * from Bootcamp.Postal_Codes_Tbl limit 1\")"
   ]
  },
  {
   "cell_type": "code",
   "execution_count": 3,
   "metadata": {
    "collapsed": true
   },
   "outputs": [],
   "source": [
    "x = []\n",
    "for i in col_names:\n",
    "    x.append(str(i[0]))\n",
    "y = []\n",
    "for i in col_names:\n",
    "    y.append(str(i[1]))\n",
    "z = []\n",
    "for i in data[0]:\n",
    "    z.append(str(i))"
   ]
  },
  {
   "cell_type": "code",
   "execution_count": 4,
   "metadata": {},
   "outputs": [
    {
     "data": {
      "text/plain": [
       "[(u'210',\n",
       "  u'Portsmouth',\n",
       "  u'New Hampshire',\n",
       "  u'NH',\n",
       "  u'Rockingham',\n",
       "  u'43.0059',\n",
       "  u'-71.0132')]"
      ]
     },
     "execution_count": 4,
     "metadata": {},
     "output_type": "execute_result"
    }
   ],
   "source": [
    "data"
   ]
  },
  {
   "cell_type": "code",
   "execution_count": 5,
   "metadata": {
    "collapsed": true
   },
   "outputs": [],
   "source": [
    "f = open('data_info.csv', 'w')"
   ]
  },
  {
   "cell_type": "code",
   "execution_count": 6,
   "metadata": {
    "collapsed": true
   },
   "outputs": [],
   "source": [
    "f.write(','.join(x))\n",
    "f.write('\\n')\n",
    "f.write(','.join(y))\n",
    "f.write('\\n')\n",
    "f.write(','.join(z))"
   ]
  },
  {
   "cell_type": "code",
   "execution_count": 7,
   "metadata": {
    "collapsed": true
   },
   "outputs": [],
   "source": [
    "f.close()"
   ]
  },
  {
   "cell_type": "code",
   "execution_count": 8,
   "metadata": {
    "collapsed": true
   },
   "outputs": [],
   "source": [
    "i = 0\n",
    "row = None\n",
    "with open('YYYY_Data_datatype.csv') as f:\n",
    "    for line in f:\n",
    "        if i == 3:\n",
    "            row = line\n",
    "            break\n",
    "        i += 1\n",
    "row = row.strip().split(',')"
   ]
  },
  {
   "cell_type": "code",
   "execution_count": 35,
   "metadata": {
    "collapsed": true
   },
   "outputs": [],
   "source": [
    "dtypes = ['double', 'int', 'date']\n",
    "type_array = []\n",
    "to_add = None\n",
    "for i in range(len(row)):\n",
    "    if i == 0: \n",
    "        continue\n",
    "    to_add = row[i] if row[i] in dtypes else ''\n",
    "    type_array.append(to_add)"
   ]
  },
  {
   "cell_type": "code",
   "execution_count": 66,
   "metadata": {
    "collapsed": true
   },
   "outputs": [],
   "source": [
    "df2 = pd.read_csv('2008_data.csv')"
   ]
  },
  {
   "cell_type": "code",
   "execution_count": 53,
   "metadata": {
    "collapsed": true
   },
   "outputs": [],
   "source": [
    "membs = {}\n",
    "for x in list(df.columns.values):\n",
    "    membs[x] = df[x].unique()"
   ]
  },
  {
   "cell_type": "code",
   "execution_count": 57,
   "metadata": {
    "collapsed": true
   },
   "outputs": [],
   "source": [
    "with open('2008_data_unique_vals.csv', 'w') as f:\n",
    "    w = csv.writer(f)\n",
    "    w.writerows(membs.items())"
   ]
  },
  {
   "cell_type": "code",
   "execution_count": 18,
   "metadata": {},
   "outputs": [
    {
     "name": "stdout",
     "output_type": "stream",
     "text": [
      "last_pymnt_d\n",
      "next_pymnt_d\n"
     ]
    }
   ],
   "source": [
    "df = pd.read_csv('2008_data.csv')\n",
    "for col in list(df.columns.values):\n",
    "    if col.endswith('_d'):\n",
    "        try: # exception thrown when nan's occure\n",
    "            df[col] = df[col].apply(lambda x: datetime.strptime(x[:8], '%Y%d%m'))\n",
    "        except Exception as e:\n",
    "            print col"
   ]
  },
  {
   "cell_type": "code",
   "execution_count": 72,
   "metadata": {
    "scrolled": true
   },
   "outputs": [
    {
     "data": {
      "text/html": [
       "<div>\n",
       "<style scoped>\n",
       "    .dataframe tbody tr th:only-of-type {\n",
       "        vertical-align: middle;\n",
       "    }\n",
       "\n",
       "    .dataframe tbody tr th {\n",
       "        vertical-align: top;\n",
       "    }\n",
       "\n",
       "    .dataframe thead th {\n",
       "        text-align: right;\n",
       "    }\n",
       "</style>\n",
       "<table border=\"1\" class=\"dataframe\">\n",
       "  <thead>\n",
       "    <tr style=\"text-align: right;\">\n",
       "      <th></th>\n",
       "      <th>id</th>\n",
       "      <th>member_id</th>\n",
       "      <th>loan_amnt</th>\n",
       "      <th>funded_amnt</th>\n",
       "      <th>funded_amnt_inv</th>\n",
       "      <th>term</th>\n",
       "      <th>int_rate</th>\n",
       "      <th>installment</th>\n",
       "      <th>grade</th>\n",
       "      <th>sub_grade</th>\n",
       "      <th>...</th>\n",
       "      <th>sub_grade_num</th>\n",
       "      <th>delinq_2yrs_zero</th>\n",
       "      <th>pub_rec_zero</th>\n",
       "      <th>collections_12_mths_zero</th>\n",
       "      <th>short_emp</th>\n",
       "      <th>payment_inc_ratio</th>\n",
       "      <th>final_d</th>\n",
       "      <th>last_delinq_none</th>\n",
       "      <th>last_record_none</th>\n",
       "      <th>last_major_derog_none</th>\n",
       "    </tr>\n",
       "  </thead>\n",
       "  <tbody>\n",
       "    <tr>\n",
       "      <th>2388</th>\n",
       "      <td>369630</td>\n",
       "      <td>385659</td>\n",
       "      <td>2000</td>\n",
       "      <td>2000</td>\n",
       "      <td>1800</td>\n",
       "      <td>36 months</td>\n",
       "      <td>8.00</td>\n",
       "      <td>62.68</td>\n",
       "      <td>A</td>\n",
       "      <td>A3</td>\n",
       "      <td>...</td>\n",
       "      <td>0.6</td>\n",
       "      <td>1</td>\n",
       "      <td>1</td>\n",
       "      <td>1</td>\n",
       "      <td>1</td>\n",
       "      <td>1.50432</td>\n",
       "      <td>2011-01-12</td>\n",
       "      <td>1</td>\n",
       "      <td>1</td>\n",
       "      <td>1</td>\n",
       "    </tr>\n",
       "    <tr>\n",
       "      <th>2389</th>\n",
       "      <td>369673</td>\n",
       "      <td>385732</td>\n",
       "      <td>15000</td>\n",
       "      <td>15000</td>\n",
       "      <td>5522</td>\n",
       "      <td>36 months</td>\n",
       "      <td>12.84</td>\n",
       "      <td>504.27</td>\n",
       "      <td>C</td>\n",
       "      <td>C2</td>\n",
       "      <td>...</td>\n",
       "      <td>0.4</td>\n",
       "      <td>1</td>\n",
       "      <td>1</td>\n",
       "      <td>1</td>\n",
       "      <td>0</td>\n",
       "      <td>3.31575</td>\n",
       "      <td>2011-01-12</td>\n",
       "      <td>1</td>\n",
       "      <td>1</td>\n",
       "      <td>1</td>\n",
       "    </tr>\n",
       "    <tr>\n",
       "      <th>2390</th>\n",
       "      <td>369701</td>\n",
       "      <td>385797</td>\n",
       "      <td>10000</td>\n",
       "      <td>10000</td>\n",
       "      <td>3808</td>\n",
       "      <td>36 months</td>\n",
       "      <td>12.53</td>\n",
       "      <td>334.67</td>\n",
       "      <td>C</td>\n",
       "      <td>C1</td>\n",
       "      <td>...</td>\n",
       "      <td>0.2</td>\n",
       "      <td>1</td>\n",
       "      <td>1</td>\n",
       "      <td>1</td>\n",
       "      <td>0</td>\n",
       "      <td>3.52284</td>\n",
       "      <td>2011-01-12</td>\n",
       "      <td>1</td>\n",
       "      <td>1</td>\n",
       "      <td>1</td>\n",
       "    </tr>\n",
       "    <tr>\n",
       "      <th>2391</th>\n",
       "      <td>369713</td>\n",
       "      <td>385363</td>\n",
       "      <td>8600</td>\n",
       "      <td>8600</td>\n",
       "      <td>1932</td>\n",
       "      <td>36 months</td>\n",
       "      <td>11.26</td>\n",
       "      <td>282.63</td>\n",
       "      <td>B</td>\n",
       "      <td>B2</td>\n",
       "      <td>...</td>\n",
       "      <td>0.4</td>\n",
       "      <td>1</td>\n",
       "      <td>1</td>\n",
       "      <td>1</td>\n",
       "      <td>0</td>\n",
       "      <td>6.78312</td>\n",
       "      <td>2011-01-12</td>\n",
       "      <td>0</td>\n",
       "      <td>1</td>\n",
       "      <td>1</td>\n",
       "    </tr>\n",
       "    <tr>\n",
       "      <th>2392</th>\n",
       "      <td>369725</td>\n",
       "      <td>385844</td>\n",
       "      <td>15000</td>\n",
       "      <td>15000</td>\n",
       "      <td>6440</td>\n",
       "      <td>36 months</td>\n",
       "      <td>13.79</td>\n",
       "      <td>511.14</td>\n",
       "      <td>C</td>\n",
       "      <td>C5</td>\n",
       "      <td>...</td>\n",
       "      <td>1.0</td>\n",
       "      <td>1</td>\n",
       "      <td>1</td>\n",
       "      <td>1</td>\n",
       "      <td>0</td>\n",
       "      <td>1.90482</td>\n",
       "      <td>2011-01-12</td>\n",
       "      <td>0</td>\n",
       "      <td>1</td>\n",
       "      <td>1</td>\n",
       "    </tr>\n",
       "  </tbody>\n",
       "</table>\n",
       "<p>5 rows × 52 columns</p>\n",
       "</div>"
      ],
      "text/plain": [
       "          id  member_id  loan_amnt  funded_amnt  funded_amnt_inv        term  \\\n",
       "2388  369630     385659       2000         2000             1800   36 months   \n",
       "2389  369673     385732      15000        15000             5522   36 months   \n",
       "2390  369701     385797      10000        10000             3808   36 months   \n",
       "2391  369713     385363       8600         8600             1932   36 months   \n",
       "2392  369725     385844      15000        15000             6440   36 months   \n",
       "\n",
       "      int_rate  installment grade sub_grade          ...            \\\n",
       "2388      8.00        62.68     A        A3          ...             \n",
       "2389     12.84       504.27     C        C2          ...             \n",
       "2390     12.53       334.67     C        C1          ...             \n",
       "2391     11.26       282.63     B        B2          ...             \n",
       "2392     13.79       511.14     C        C5          ...             \n",
       "\n",
       "     sub_grade_num delinq_2yrs_zero pub_rec_zero collections_12_mths_zero  \\\n",
       "2388           0.6                1            1                        1   \n",
       "2389           0.4                1            1                        1   \n",
       "2390           0.2                1            1                        1   \n",
       "2391           0.4                1            1                        1   \n",
       "2392           1.0                1            1                        1   \n",
       "\n",
       "     short_emp payment_inc_ratio    final_d last_delinq_none  \\\n",
       "2388         1           1.50432 2011-01-12                1   \n",
       "2389         0           3.31575 2011-01-12                1   \n",
       "2390         0           3.52284 2011-01-12                1   \n",
       "2391         0           6.78312 2011-01-12                0   \n",
       "2392         0           1.90482 2011-01-12                0   \n",
       "\n",
       "      last_record_none  last_major_derog_none  \n",
       "2388                 1                      1  \n",
       "2389                 1                      1  \n",
       "2390                 1                      1  \n",
       "2391                 1                      1  \n",
       "2392                 1                      1  \n",
       "\n",
       "[5 rows x 52 columns]"
      ]
     },
     "execution_count": 72,
     "metadata": {},
     "output_type": "execute_result"
    }
   ],
   "source": [
    "df.tail()"
   ]
  },
  {
   "cell_type": "code",
   "execution_count": 130,
   "metadata": {},
   "outputs": [],
   "source": [
    "full_df = getBootcampData(db_creds, 2007, 2009)"
   ]
  },
  {
   "cell_type": "code",
   "execution_count": 131,
   "metadata": {},
   "outputs": [
    {
     "data": {
      "text/plain": [
       "(8277, 68)"
      ]
     },
     "execution_count": 131,
     "metadata": {},
     "output_type": "execute_result"
    }
   ],
   "source": [
    "full_df.shape"
   ]
  },
  {
   "cell_type": "code",
   "execution_count": 20,
   "metadata": {
    "collapsed": true
   },
   "outputs": [],
   "source": [
    "col_to_drop = ['url']\n",
    "df.drop(col_to_drop, axis=1, inplace=True)"
   ]
  },
  {
   "cell_type": "code",
   "execution_count": 35,
   "metadata": {
    "collapsed": true
   },
   "outputs": [],
   "source": [
    "col_to_drop = ['Latitude']\n",
    "mi_df.dropna(subset=col_to_drop, how='any', inplace=True)"
   ]
  },
  {
   "cell_type": "code",
   "execution_count": 40,
   "metadata": {
    "collapsed": true
   },
   "outputs": [],
   "source": [
    "mi_df.fillna({'Latitude':0}, inplace=True)"
   ]
  },
  {
   "cell_type": "code",
   "execution_count": 41,
   "metadata": {},
   "outputs": [
    {
     "data": {
      "text/html": [
       "<div>\n",
       "<style scoped>\n",
       "    .dataframe tbody tr th:only-of-type {\n",
       "        vertical-align: middle;\n",
       "    }\n",
       "\n",
       "    .dataframe tbody tr th {\n",
       "        vertical-align: top;\n",
       "    }\n",
       "\n",
       "    .dataframe thead th {\n",
       "        text-align: right;\n",
       "    }\n",
       "</style>\n",
       "<table border=\"1\" class=\"dataframe\">\n",
       "  <thead>\n",
       "    <tr style=\"text-align: right;\">\n",
       "      <th></th>\n",
       "      <th>Postal Code</th>\n",
       "      <th>Place Name</th>\n",
       "      <th>State</th>\n",
       "      <th>State Abbreviation</th>\n",
       "      <th>County</th>\n",
       "      <th>Latitude</th>\n",
       "      <th>Longitude</th>\n",
       "    </tr>\n",
       "  </thead>\n",
       "  <tbody>\n",
       "    <tr>\n",
       "      <th>37711</th>\n",
       "      <td>84646</td>\n",
       "      <td>Moroni</td>\n",
       "      <td>Utah</td>\n",
       "      <td>UT</td>\n",
       "      <td>Sanpete</td>\n",
       "      <td>39.5108</td>\n",
       "      <td>-111.5603</td>\n",
       "    </tr>\n",
       "    <tr>\n",
       "      <th>37712</th>\n",
       "      <td>84647</td>\n",
       "      <td>Mount Pleasant</td>\n",
       "      <td>Utah</td>\n",
       "      <td>UT</td>\n",
       "      <td>Sanpete</td>\n",
       "      <td>39.5232</td>\n",
       "      <td>-111.5039</td>\n",
       "    </tr>\n",
       "    <tr>\n",
       "      <th>37713</th>\n",
       "      <td>84648</td>\n",
       "      <td>Nephi</td>\n",
       "      <td>Utah</td>\n",
       "      <td>UT</td>\n",
       "      <td>Juab</td>\n",
       "      <td>39.6923</td>\n",
       "      <td>-111.8359</td>\n",
       "    </tr>\n",
       "    <tr>\n",
       "      <th>37714</th>\n",
       "      <td>84649</td>\n",
       "      <td>Oak City</td>\n",
       "      <td>Utah</td>\n",
       "      <td>UT</td>\n",
       "      <td>Millard</td>\n",
       "      <td>39.3729</td>\n",
       "      <td>-112.3288</td>\n",
       "    </tr>\n",
       "    <tr>\n",
       "      <th>37715</th>\n",
       "      <td>84650</td>\n",
       "      <td>Oasis</td>\n",
       "      <td>Utah</td>\n",
       "      <td>UT</td>\n",
       "      <td>Milla</td>\n",
       "      <td>0.0000</td>\n",
       "      <td>NaN</td>\n",
       "    </tr>\n",
       "  </tbody>\n",
       "</table>\n",
       "</div>"
      ],
      "text/plain": [
       "       Postal Code      Place Name State State Abbreviation   County  \\\n",
       "37711        84646          Moroni  Utah                 UT  Sanpete   \n",
       "37712        84647  Mount Pleasant  Utah                 UT  Sanpete   \n",
       "37713        84648           Nephi  Utah                 UT     Juab   \n",
       "37714        84649        Oak City  Utah                 UT  Millard   \n",
       "37715        84650           Oasis  Utah                 UT    Milla   \n",
       "\n",
       "       Latitude  Longitude  \n",
       "37711   39.5108  -111.5603  \n",
       "37712   39.5232  -111.5039  \n",
       "37713   39.6923  -111.8359  \n",
       "37714   39.3729  -112.3288  \n",
       "37715    0.0000        NaN  "
      ]
     },
     "execution_count": 41,
     "metadata": {},
     "output_type": "execute_result"
    }
   ],
   "source": [
    "mi_df.tail()"
   ]
  },
  {
   "cell_type": "code",
   "execution_count": 57,
   "metadata": {},
   "outputs": [
    {
     "data": {
      "text/plain": [
       "'Bootcamp.2007_Data'"
      ]
     },
     "execution_count": 57,
     "metadata": {},
     "output_type": "execute_result"
    }
   ],
   "source": [
    "x = 'Bootcamp.{}_Data'\n",
    "x.format(str(2007))"
   ]
  },
  {
   "cell_type": "code",
   "execution_count": 89,
   "metadata": {
    "collapsed": true
   },
   "outputs": [],
   "source": [
    "df = getBootcampData(db_creds)"
   ]
  },
  {
   "cell_type": "code",
   "execution_count": 113,
   "metadata": {},
   "outputs": [],
   "source": [
    "df = cleanData()"
   ]
  },
  {
   "cell_type": "code",
   "execution_count": 75,
   "metadata": {},
   "outputs": [
    {
     "data": {
      "text/html": [
       "<div>\n",
       "<style scoped>\n",
       "    .dataframe tbody tr th:only-of-type {\n",
       "        vertical-align: middle;\n",
       "    }\n",
       "\n",
       "    .dataframe tbody tr th {\n",
       "        vertical-align: top;\n",
       "    }\n",
       "\n",
       "    .dataframe thead th {\n",
       "        text-align: right;\n",
       "    }\n",
       "</style>\n",
       "<table border=\"1\" class=\"dataframe\">\n",
       "  <thead>\n",
       "    <tr style=\"text-align: right;\">\n",
       "      <th></th>\n",
       "      <th>member_id</th>\n",
       "      <th>loan_amnt</th>\n",
       "      <th>funded_amnt</th>\n",
       "      <th>funded_amnt_inv</th>\n",
       "      <th>term</th>\n",
       "      <th>int_rate</th>\n",
       "      <th>installment</th>\n",
       "      <th>grade</th>\n",
       "      <th>sub_grade</th>\n",
       "      <th>is_inc_v</th>\n",
       "      <th>...</th>\n",
       "      <th>addr_state</th>\n",
       "      <th>dti</th>\n",
       "      <th>delinq_2yrs</th>\n",
       "      <th>earliest_cr_line</th>\n",
       "      <th>inq_last_6mths</th>\n",
       "      <th>mths_since_last_delinq</th>\n",
       "      <th>open_acc</th>\n",
       "      <th>pub_rec</th>\n",
       "      <th>total_acc</th>\n",
       "      <th>mths_since_last_major_derog</th>\n",
       "    </tr>\n",
       "  </thead>\n",
       "  <tbody>\n",
       "    <tr>\n",
       "      <th>2</th>\n",
       "      <td>70473</td>\n",
       "      <td>4350</td>\n",
       "      <td>4350</td>\n",
       "      <td>825</td>\n",
       "      <td>36</td>\n",
       "      <td>8.07</td>\n",
       "      <td>136.45</td>\n",
       "      <td>A</td>\n",
       "      <td>A4</td>\n",
       "      <td>Not Verified</td>\n",
       "      <td>...</td>\n",
       "      <td>MA</td>\n",
       "      <td>4</td>\n",
       "      <td></td>\n",
       "      <td></td>\n",
       "      <td></td>\n",
       "      <td></td>\n",
       "      <td></td>\n",
       "      <td></td>\n",
       "      <td></td>\n",
       "      <td></td>\n",
       "    </tr>\n",
       "    <tr>\n",
       "      <th>17</th>\n",
       "      <td>79878</td>\n",
       "      <td>6700</td>\n",
       "      <td>6700</td>\n",
       "      <td>6700</td>\n",
       "      <td>36</td>\n",
       "      <td>7.75</td>\n",
       "      <td>209.18</td>\n",
       "      <td>A</td>\n",
       "      <td>A3</td>\n",
       "      <td>Not Verified</td>\n",
       "      <td>...</td>\n",
       "      <td>NY</td>\n",
       "      <td>1</td>\n",
       "      <td></td>\n",
       "      <td></td>\n",
       "      <td></td>\n",
       "      <td></td>\n",
       "      <td></td>\n",
       "      <td></td>\n",
       "      <td></td>\n",
       "      <td></td>\n",
       "    </tr>\n",
       "    <tr>\n",
       "      <th>31</th>\n",
       "      <td>86999</td>\n",
       "      <td>7500</td>\n",
       "      <td>7500</td>\n",
       "      <td>800</td>\n",
       "      <td>36</td>\n",
       "      <td>13.75</td>\n",
       "      <td>255.43</td>\n",
       "      <td>E</td>\n",
       "      <td>E2</td>\n",
       "      <td>Not Verified</td>\n",
       "      <td>...</td>\n",
       "      <td>MA</td>\n",
       "      <td>14.29</td>\n",
       "      <td>1</td>\n",
       "      <td>2003-10-01 00:00:00</td>\n",
       "      <td>0</td>\n",
       "      <td>11</td>\n",
       "      <td>7</td>\n",
       "      <td>0</td>\n",
       "      <td>8</td>\n",
       "      <td></td>\n",
       "    </tr>\n",
       "    <tr>\n",
       "      <th>33</th>\n",
       "      <td>88629</td>\n",
       "      <td>6000</td>\n",
       "      <td>6000</td>\n",
       "      <td>650</td>\n",
       "      <td>36</td>\n",
       "      <td>10.59</td>\n",
       "      <td>195.28</td>\n",
       "      <td>C</td>\n",
       "      <td>C2</td>\n",
       "      <td>Not Verified</td>\n",
       "      <td>...</td>\n",
       "      <td>CT</td>\n",
       "      <td>12.9</td>\n",
       "      <td>0</td>\n",
       "      <td>1996-01-01 00:00:00</td>\n",
       "      <td>4</td>\n",
       "      <td>45</td>\n",
       "      <td>5</td>\n",
       "      <td>0</td>\n",
       "      <td>6</td>\n",
       "      <td></td>\n",
       "    </tr>\n",
       "    <tr>\n",
       "      <th>37</th>\n",
       "      <td>89243</td>\n",
       "      <td>5000</td>\n",
       "      <td>5000</td>\n",
       "      <td>650</td>\n",
       "      <td>36</td>\n",
       "      <td>7.43</td>\n",
       "      <td>155.38</td>\n",
       "      <td>A</td>\n",
       "      <td>A2</td>\n",
       "      <td>Not Verified</td>\n",
       "      <td>...</td>\n",
       "      <td>MD</td>\n",
       "      <td>3.72</td>\n",
       "      <td>0</td>\n",
       "      <td>1988-11-01 00:00:00</td>\n",
       "      <td>0</td>\n",
       "      <td>0</td>\n",
       "      <td>17</td>\n",
       "      <td>0</td>\n",
       "      <td>26</td>\n",
       "      <td></td>\n",
       "    </tr>\n",
       "  </tbody>\n",
       "</table>\n",
       "<p>5 rows × 61 columns</p>\n",
       "</div>"
      ],
      "text/plain": [
       "    member_id loan_amnt funded_amnt funded_amnt_inv  term int_rate  \\\n",
       "2       70473      4350        4350             825    36     8.07   \n",
       "17      79878      6700        6700            6700    36     7.75   \n",
       "31      86999      7500        7500             800    36    13.75   \n",
       "33      88629      6000        6000             650    36    10.59   \n",
       "37      89243      5000        5000             650    36     7.43   \n",
       "\n",
       "   installment grade sub_grade      is_inc_v             ...              \\\n",
       "2       136.45     A        A4  Not Verified             ...               \n",
       "17      209.18     A        A3  Not Verified             ...               \n",
       "31      255.43     E        E2  Not Verified             ...               \n",
       "33      195.28     C        C2  Not Verified             ...               \n",
       "37      155.38     A        A2  Not Verified             ...               \n",
       "\n",
       "   addr_state    dti delinq_2yrs     earliest_cr_line inq_last_6mths  \\\n",
       "2          MA      4                                                   \n",
       "17         NY      1                                                   \n",
       "31         MA  14.29           1  2003-10-01 00:00:00              0   \n",
       "33         CT   12.9           0  1996-01-01 00:00:00              4   \n",
       "37         MD   3.72           0  1988-11-01 00:00:00              0   \n",
       "\n",
       "   mths_since_last_delinq open_acc pub_rec total_acc  \\\n",
       "2                                                      \n",
       "17                                                     \n",
       "31                     11        7       0         8   \n",
       "33                     45        5       0         6   \n",
       "37                      0       17       0        26   \n",
       "\n",
       "   mths_since_last_major_derog  \n",
       "2                               \n",
       "17                              \n",
       "31                              \n",
       "33                              \n",
       "37                              \n",
       "\n",
       "[5 rows x 61 columns]"
      ]
     },
     "execution_count": 75,
     "metadata": {},
     "output_type": "execute_result"
    }
   ],
   "source": [
    "df.head()"
   ]
  },
  {
   "cell_type": "code",
   "execution_count": 273,
   "metadata": {},
   "outputs": [],
   "source": [
    "tmp_df = df"
   ]
  },
  {
   "cell_type": "code",
   "execution_count": 146,
   "metadata": {},
   "outputs": [
    {
     "data": {
      "text/plain": [
       "(3130, 61)"
      ]
     },
     "execution_count": 146,
     "metadata": {},
     "output_type": "execute_result"
    }
   ],
   "source": [
    "df.shape"
   ]
  },
  {
   "cell_type": "code",
   "execution_count": 164,
   "metadata": {},
   "outputs": [
    {
     "data": {
      "text/plain": [
       "(3130, 61)"
      ]
     },
     "execution_count": 164,
     "metadata": {},
     "output_type": "execute_result"
    }
   ],
   "source": [
    "tmp_df.shape"
   ]
  },
  {
   "cell_type": "code",
   "execution_count": 159,
   "metadata": {},
   "outputs": [],
   "source": [
    "tdf = fixPaymentPlan(df)"
   ]
  },
  {
   "cell_type": "code",
   "execution_count": 160,
   "metadata": {},
   "outputs": [
    {
     "data": {
      "text/plain": [
       "(3130, 61)"
      ]
     },
     "execution_count": 160,
     "metadata": {},
     "output_type": "execute_result"
    }
   ],
   "source": [
    "tdf.shape"
   ]
  },
  {
   "cell_type": "code",
   "execution_count": 165,
   "metadata": {},
   "outputs": [
    {
     "data": {
      "text/plain": [
       "array([u'1'], dtype=object)"
      ]
     },
     "execution_count": 165,
     "metadata": {},
     "output_type": "execute_result"
    }
   ],
   "source": [
    "tmp_df['inactive_loans'].unique()"
   ]
  },
  {
   "cell_type": "code",
   "execution_count": 234,
   "metadata": {},
   "outputs": [],
   "source": [
    "tmp_df['inactive_loans'] = tmp_df['inactive_loans'].astype('float')\n",
    "tmp_df['inactive_loans'] = tmp_df['inactive_loans'].astype('int')\n",
    "x = tmp_df[tmp_df['inactive_loans'].isin(range(2))]"
   ]
  },
  {
   "cell_type": "code",
   "execution_count": 235,
   "metadata": {},
   "outputs": [
    {
     "data": {
      "text/plain": [
       "1"
      ]
     },
     "execution_count": 235,
     "metadata": {},
     "output_type": "execute_result"
    }
   ],
   "source": [
    "int(tmp_df['inactive_loans'][2])"
   ]
  },
  {
   "cell_type": "code",
   "execution_count": 182,
   "metadata": {
    "collapsed": true
   },
   "outputs": [],
   "source": [
    "def fixDeliquency(df):\n",
    "    df['delinq_2yrs'] = df['delinq_2yrs'].astype(int, errors='ignore')\n",
    "    df['mths_since_last_delinq'] = df['mths_since_last_delinq'].astype(int, errors='ignore')\n",
    "    df['deliquency'] = df.apply(lambda r: r['delinq_2yrs'] and r['mths_since_last_delinq'], axis = 1)\n",
    "    return df"
   ]
  },
  {
   "cell_type": "code",
   "execution_count": 188,
   "metadata": {},
   "outputs": [
    {
     "name": "stdout",
     "output_type": "stream",
     "text": [
      "(3130, 62)\n"
     ]
    }
   ],
   "source": [
    "print df.shape\n",
    "tdf = fixDeliquency(df)"
   ]
  },
  {
   "cell_type": "code",
   "execution_count": 189,
   "metadata": {},
   "outputs": [
    {
     "data": {
      "text/plain": [
       "(3130, 62)"
      ]
     },
     "execution_count": 189,
     "metadata": {},
     "output_type": "execute_result"
    }
   ],
   "source": [
    "tdf.shape"
   ]
  },
  {
   "cell_type": "code",
   "execution_count": 190,
   "metadata": {},
   "outputs": [
    {
     "data": {
      "text/plain": [
       "array([u'', u'11', u'45', u'1', u'0', u'5', u'2', u'17', u'13', u'19',\n",
       "       u'7', u'78', u'15', u'43', u'42', u'24', u'12', u'38', u'44',\n",
       "       u'46', u'54', u'56', u'30', u'37', u'16', u'9', u'64', u'8', u'10',\n",
       "       u'22', u'41', u'62', u'61', u'50', u'71', u'47', u'28', u'65',\n",
       "       u'53', u'33', u'77', u'29', u'32', u'39', u'59', u'27', u'6',\n",
       "       u'80', u'25', u'74', u'14', u'48', u'73', u'18', u'34', u'69',\n",
       "       u'4', u'57', u'49', u'36', u'20', u'35', u'51', u'81', u'72',\n",
       "       u'63', u'21', u'55', u'68', u'70', u'40', u'31', u'52', u'26',\n",
       "       u'23', u'66', u'76', u'75', u'60', u'3', u'58', u'79', u'67',\n",
       "       u'82', u'83'], dtype=object)"
      ]
     },
     "execution_count": 190,
     "metadata": {},
     "output_type": "execute_result"
    }
   ],
   "source": [
    "tdf['deliquency'].unique()"
   ]
  },
  {
   "cell_type": "code",
   "execution_count": 192,
   "metadata": {},
   "outputs": [
    {
     "data": {
      "text/plain": [
       "array([u'', u'1', u'0', u'2', u'4', u'3', u'5', u'8'], dtype=object)"
      ]
     },
     "execution_count": 192,
     "metadata": {},
     "output_type": "execute_result"
    }
   ],
   "source": [
    "tdf['delinq_2yrs'].unique()"
   ]
  },
  {
   "cell_type": "code",
   "execution_count": 279,
   "metadata": {},
   "outputs": [],
   "source": [
    "# x = tdf['delinq_2yrs'].apply(lambda x: bool(x or 1))\n",
    "tmp_df['new'] = pd.to_numeric(tmp_df['delinq_2yrs'], downcast='integer',errors= 'coerce')\n",
    "#x = x.astype('float', errors='ignore')"
   ]
  },
  {
   "cell_type": "code",
   "execution_count": 280,
   "metadata": {},
   "outputs": [
    {
     "data": {
      "text/plain": [
       "numpy.float64"
      ]
     },
     "execution_count": 280,
     "metadata": {},
     "output_type": "execute_result"
    }
   ],
   "source": [
    "type(x[31])"
   ]
  },
  {
   "cell_type": "code",
   "execution_count": 260,
   "metadata": {},
   "outputs": [
    {
     "data": {
      "text/plain": [
       "True"
      ]
     },
     "execution_count": 260,
     "metadata": {},
     "output_type": "execute_result"
    }
   ],
   "source": [
    "x[33]"
   ]
  },
  {
   "cell_type": "code",
   "execution_count": 268,
   "metadata": {},
   "outputs": [
    {
     "ename": "ValueError",
     "evalue": "Cannot convert non-finite values (NA or inf) to integer",
     "output_type": "error",
     "traceback": [
      "\u001b[0;31m---------------------------------------------------------------------------\u001b[0m",
      "\u001b[0;31mValueError\u001b[0m                                Traceback (most recent call last)",
      "\u001b[0;32m<ipython-input-268-e7cb3c27b295>\u001b[0m in \u001b[0;36m<module>\u001b[0;34m()\u001b[0m\n\u001b[0;32m----> 1\u001b[0;31m \u001b[0mtdf\u001b[0m \u001b[0;34m=\u001b[0m \u001b[0mpd\u001b[0m\u001b[0;34m.\u001b[0m\u001b[0mto_numeric\u001b[0m\u001b[0;34m(\u001b[0m\u001b[0mdf\u001b[0m\u001b[0;34m[\u001b[0m\u001b[0;34m'delinq_2yrs'\u001b[0m\u001b[0;34m]\u001b[0m\u001b[0;34m,\u001b[0m \u001b[0merrors\u001b[0m\u001b[0;34m=\u001b[0m \u001b[0;34m'coerce'\u001b[0m\u001b[0;34m)\u001b[0m\u001b[0;34m.\u001b[0m\u001b[0mastype\u001b[0m\u001b[0;34m(\u001b[0m\u001b[0;34m'int'\u001b[0m\u001b[0;34m)\u001b[0m\u001b[0;34m\u001b[0m\u001b[0m\n\u001b[0m",
      "\u001b[0;32m/Library/Frameworks/Python.framework/Versions/2.7/lib/python2.7/site-packages/pandas/util/_decorators.pyc\u001b[0m in \u001b[0;36mwrapper\u001b[0;34m(*args, **kwargs)\u001b[0m\n\u001b[1;32m    116\u001b[0m                 \u001b[0;32melse\u001b[0m\u001b[0;34m:\u001b[0m\u001b[0;34m\u001b[0m\u001b[0m\n\u001b[1;32m    117\u001b[0m                     \u001b[0mkwargs\u001b[0m\u001b[0;34m[\u001b[0m\u001b[0mnew_arg_name\u001b[0m\u001b[0;34m]\u001b[0m \u001b[0;34m=\u001b[0m \u001b[0mnew_arg_value\u001b[0m\u001b[0;34m\u001b[0m\u001b[0m\n\u001b[0;32m--> 118\u001b[0;31m             \u001b[0;32mreturn\u001b[0m \u001b[0mfunc\u001b[0m\u001b[0;34m(\u001b[0m\u001b[0;34m*\u001b[0m\u001b[0margs\u001b[0m\u001b[0;34m,\u001b[0m \u001b[0;34m**\u001b[0m\u001b[0mkwargs\u001b[0m\u001b[0;34m)\u001b[0m\u001b[0;34m\u001b[0m\u001b[0m\n\u001b[0m\u001b[1;32m    119\u001b[0m         \u001b[0;32mreturn\u001b[0m \u001b[0mwrapper\u001b[0m\u001b[0;34m\u001b[0m\u001b[0m\n\u001b[1;32m    120\u001b[0m     \u001b[0;32mreturn\u001b[0m \u001b[0m_deprecate_kwarg\u001b[0m\u001b[0;34m\u001b[0m\u001b[0m\n",
      "\u001b[0;32m/Library/Frameworks/Python.framework/Versions/2.7/lib/python2.7/site-packages/pandas/core/generic.pyc\u001b[0m in \u001b[0;36mastype\u001b[0;34m(self, dtype, copy, errors, **kwargs)\u001b[0m\n\u001b[1;32m   4002\u001b[0m         \u001b[0;31m# else, only a single dtype is given\u001b[0m\u001b[0;34m\u001b[0m\u001b[0;34m\u001b[0m\u001b[0m\n\u001b[1;32m   4003\u001b[0m         new_data = self._data.astype(dtype=dtype, copy=copy, errors=errors,\n\u001b[0;32m-> 4004\u001b[0;31m                                      **kwargs)\n\u001b[0m\u001b[1;32m   4005\u001b[0m         \u001b[0;32mreturn\u001b[0m \u001b[0mself\u001b[0m\u001b[0;34m.\u001b[0m\u001b[0m_constructor\u001b[0m\u001b[0;34m(\u001b[0m\u001b[0mnew_data\u001b[0m\u001b[0;34m)\u001b[0m\u001b[0;34m.\u001b[0m\u001b[0m__finalize__\u001b[0m\u001b[0;34m(\u001b[0m\u001b[0mself\u001b[0m\u001b[0;34m)\u001b[0m\u001b[0;34m\u001b[0m\u001b[0m\n\u001b[1;32m   4006\u001b[0m \u001b[0;34m\u001b[0m\u001b[0m\n",
      "\u001b[0;32m/Library/Frameworks/Python.framework/Versions/2.7/lib/python2.7/site-packages/pandas/core/internals.pyc\u001b[0m in \u001b[0;36mastype\u001b[0;34m(self, dtype, **kwargs)\u001b[0m\n\u001b[1;32m   3460\u001b[0m \u001b[0;34m\u001b[0m\u001b[0m\n\u001b[1;32m   3461\u001b[0m     \u001b[0;32mdef\u001b[0m \u001b[0mastype\u001b[0m\u001b[0;34m(\u001b[0m\u001b[0mself\u001b[0m\u001b[0;34m,\u001b[0m \u001b[0mdtype\u001b[0m\u001b[0;34m,\u001b[0m \u001b[0;34m**\u001b[0m\u001b[0mkwargs\u001b[0m\u001b[0;34m)\u001b[0m\u001b[0;34m:\u001b[0m\u001b[0;34m\u001b[0m\u001b[0m\n\u001b[0;32m-> 3462\u001b[0;31m         \u001b[0;32mreturn\u001b[0m \u001b[0mself\u001b[0m\u001b[0;34m.\u001b[0m\u001b[0mapply\u001b[0m\u001b[0;34m(\u001b[0m\u001b[0;34m'astype'\u001b[0m\u001b[0;34m,\u001b[0m \u001b[0mdtype\u001b[0m\u001b[0;34m=\u001b[0m\u001b[0mdtype\u001b[0m\u001b[0;34m,\u001b[0m \u001b[0;34m**\u001b[0m\u001b[0mkwargs\u001b[0m\u001b[0;34m)\u001b[0m\u001b[0;34m\u001b[0m\u001b[0m\n\u001b[0m\u001b[1;32m   3463\u001b[0m \u001b[0;34m\u001b[0m\u001b[0m\n\u001b[1;32m   3464\u001b[0m     \u001b[0;32mdef\u001b[0m \u001b[0mconvert\u001b[0m\u001b[0;34m(\u001b[0m\u001b[0mself\u001b[0m\u001b[0;34m,\u001b[0m \u001b[0;34m**\u001b[0m\u001b[0mkwargs\u001b[0m\u001b[0;34m)\u001b[0m\u001b[0;34m:\u001b[0m\u001b[0;34m\u001b[0m\u001b[0m\n",
      "\u001b[0;32m/Library/Frameworks/Python.framework/Versions/2.7/lib/python2.7/site-packages/pandas/core/internals.pyc\u001b[0m in \u001b[0;36mapply\u001b[0;34m(self, f, axes, filter, do_integrity_check, consolidate, **kwargs)\u001b[0m\n\u001b[1;32m   3327\u001b[0m \u001b[0;34m\u001b[0m\u001b[0m\n\u001b[1;32m   3328\u001b[0m             \u001b[0mkwargs\u001b[0m\u001b[0;34m[\u001b[0m\u001b[0;34m'mgr'\u001b[0m\u001b[0;34m]\u001b[0m \u001b[0;34m=\u001b[0m \u001b[0mself\u001b[0m\u001b[0;34m\u001b[0m\u001b[0m\n\u001b[0;32m-> 3329\u001b[0;31m             \u001b[0mapplied\u001b[0m \u001b[0;34m=\u001b[0m \u001b[0mgetattr\u001b[0m\u001b[0;34m(\u001b[0m\u001b[0mb\u001b[0m\u001b[0;34m,\u001b[0m \u001b[0mf\u001b[0m\u001b[0;34m)\u001b[0m\u001b[0;34m(\u001b[0m\u001b[0;34m**\u001b[0m\u001b[0mkwargs\u001b[0m\u001b[0;34m)\u001b[0m\u001b[0;34m\u001b[0m\u001b[0m\n\u001b[0m\u001b[1;32m   3330\u001b[0m             \u001b[0mresult_blocks\u001b[0m \u001b[0;34m=\u001b[0m \u001b[0m_extend_blocks\u001b[0m\u001b[0;34m(\u001b[0m\u001b[0mapplied\u001b[0m\u001b[0;34m,\u001b[0m \u001b[0mresult_blocks\u001b[0m\u001b[0;34m)\u001b[0m\u001b[0;34m\u001b[0m\u001b[0m\n\u001b[1;32m   3331\u001b[0m \u001b[0;34m\u001b[0m\u001b[0m\n",
      "\u001b[0;32m/Library/Frameworks/Python.framework/Versions/2.7/lib/python2.7/site-packages/pandas/core/internals.pyc\u001b[0m in \u001b[0;36mastype\u001b[0;34m(self, dtype, copy, errors, values, **kwargs)\u001b[0m\n\u001b[1;32m    542\u001b[0m     \u001b[0;32mdef\u001b[0m \u001b[0mastype\u001b[0m\u001b[0;34m(\u001b[0m\u001b[0mself\u001b[0m\u001b[0;34m,\u001b[0m \u001b[0mdtype\u001b[0m\u001b[0;34m,\u001b[0m \u001b[0mcopy\u001b[0m\u001b[0;34m=\u001b[0m\u001b[0mFalse\u001b[0m\u001b[0;34m,\u001b[0m \u001b[0merrors\u001b[0m\u001b[0;34m=\u001b[0m\u001b[0;34m'raise'\u001b[0m\u001b[0;34m,\u001b[0m \u001b[0mvalues\u001b[0m\u001b[0;34m=\u001b[0m\u001b[0mNone\u001b[0m\u001b[0;34m,\u001b[0m \u001b[0;34m**\u001b[0m\u001b[0mkwargs\u001b[0m\u001b[0;34m)\u001b[0m\u001b[0;34m:\u001b[0m\u001b[0;34m\u001b[0m\u001b[0m\n\u001b[1;32m    543\u001b[0m         return self._astype(dtype, copy=copy, errors=errors, values=values,\n\u001b[0;32m--> 544\u001b[0;31m                             **kwargs)\n\u001b[0m\u001b[1;32m    545\u001b[0m \u001b[0;34m\u001b[0m\u001b[0m\n\u001b[1;32m    546\u001b[0m     def _astype(self, dtype, copy=False, errors='raise', values=None,\n",
      "\u001b[0;32m/Library/Frameworks/Python.framework/Versions/2.7/lib/python2.7/site-packages/pandas/core/internals.pyc\u001b[0m in \u001b[0;36m_astype\u001b[0;34m(self, dtype, copy, errors, values, klass, mgr, **kwargs)\u001b[0m\n\u001b[1;32m    623\u001b[0m \u001b[0;34m\u001b[0m\u001b[0m\n\u001b[1;32m    624\u001b[0m                 \u001b[0;31m# _astype_nansafe works fine with 1-d only\u001b[0m\u001b[0;34m\u001b[0m\u001b[0;34m\u001b[0m\u001b[0m\n\u001b[0;32m--> 625\u001b[0;31m                 \u001b[0mvalues\u001b[0m \u001b[0;34m=\u001b[0m \u001b[0mastype_nansafe\u001b[0m\u001b[0;34m(\u001b[0m\u001b[0mvalues\u001b[0m\u001b[0;34m.\u001b[0m\u001b[0mravel\u001b[0m\u001b[0;34m(\u001b[0m\u001b[0;34m)\u001b[0m\u001b[0;34m,\u001b[0m \u001b[0mdtype\u001b[0m\u001b[0;34m,\u001b[0m \u001b[0mcopy\u001b[0m\u001b[0;34m=\u001b[0m\u001b[0mTrue\u001b[0m\u001b[0;34m)\u001b[0m\u001b[0;34m\u001b[0m\u001b[0m\n\u001b[0m\u001b[1;32m    626\u001b[0m                 \u001b[0mvalues\u001b[0m \u001b[0;34m=\u001b[0m \u001b[0mvalues\u001b[0m\u001b[0;34m.\u001b[0m\u001b[0mreshape\u001b[0m\u001b[0;34m(\u001b[0m\u001b[0mself\u001b[0m\u001b[0;34m.\u001b[0m\u001b[0mshape\u001b[0m\u001b[0;34m)\u001b[0m\u001b[0;34m\u001b[0m\u001b[0m\n\u001b[1;32m    627\u001b[0m \u001b[0;34m\u001b[0m\u001b[0m\n",
      "\u001b[0;32m/Library/Frameworks/Python.framework/Versions/2.7/lib/python2.7/site-packages/pandas/core/dtypes/cast.pyc\u001b[0m in \u001b[0;36mastype_nansafe\u001b[0;34m(arr, dtype, copy)\u001b[0m\n\u001b[1;32m    685\u001b[0m \u001b[0;34m\u001b[0m\u001b[0m\n\u001b[1;32m    686\u001b[0m         \u001b[0;32mif\u001b[0m \u001b[0;32mnot\u001b[0m \u001b[0mnp\u001b[0m\u001b[0;34m.\u001b[0m\u001b[0misfinite\u001b[0m\u001b[0;34m(\u001b[0m\u001b[0marr\u001b[0m\u001b[0;34m)\u001b[0m\u001b[0;34m.\u001b[0m\u001b[0mall\u001b[0m\u001b[0;34m(\u001b[0m\u001b[0;34m)\u001b[0m\u001b[0;34m:\u001b[0m\u001b[0;34m\u001b[0m\u001b[0m\n\u001b[0;32m--> 687\u001b[0;31m             raise ValueError('Cannot convert non-finite values (NA or inf) to '\n\u001b[0m\u001b[1;32m    688\u001b[0m                              'integer')\n\u001b[1;32m    689\u001b[0m \u001b[0;34m\u001b[0m\u001b[0m\n",
      "\u001b[0;31mValueError\u001b[0m: Cannot convert non-finite values (NA or inf) to integer"
     ]
    }
   ],
   "source": [
    "tdf = pd.to_numeric(df['delinq_2yrs'], errors= 'coerce')"
   ]
  },
  {
   "cell_type": "code",
   "execution_count": 266,
   "metadata": {},
   "outputs": [
    {
     "data": {
      "text/plain": [
       "2       NaN\n",
       "12      NaN\n",
       "17      NaN\n",
       "20      NaN\n",
       "21      NaN\n",
       "22      NaN\n",
       "27      NaN\n",
       "28      NaN\n",
       "30      NaN\n",
       "31      1.0\n",
       "33      0.0\n",
       "36      2.0\n",
       "37      0.0\n",
       "39      1.0\n",
       "41      NaN\n",
       "42      0.0\n",
       "45      0.0\n",
       "48      0.0\n",
       "50      0.0\n",
       "54      0.0\n",
       "55      0.0\n",
       "57      1.0\n",
       "58      0.0\n",
       "59      0.0\n",
       "60      0.0\n",
       "63      0.0\n",
       "64      4.0\n",
       "65      0.0\n",
       "70      0.0\n",
       "71      0.0\n",
       "       ... \n",
       "8168    0.0\n",
       "8172    0.0\n",
       "8176    0.0\n",
       "8178    0.0\n",
       "8194    0.0\n",
       "8199    0.0\n",
       "8208    0.0\n",
       "8212    0.0\n",
       "8213    1.0\n",
       "8216    0.0\n",
       "8217    0.0\n",
       "8218    0.0\n",
       "8219    0.0\n",
       "8221    0.0\n",
       "8223    1.0\n",
       "8224    0.0\n",
       "8228    0.0\n",
       "8229    0.0\n",
       "8230    0.0\n",
       "8231    0.0\n",
       "8238    0.0\n",
       "8239    1.0\n",
       "8243    0.0\n",
       "8251    0.0\n",
       "8260    0.0\n",
       "8262    1.0\n",
       "8264    0.0\n",
       "8267    0.0\n",
       "8268    0.0\n",
       "8276    0.0\n",
       "Name: delinq_2yrs, Length: 3130, dtype: float64"
      ]
     },
     "execution_count": 266,
     "metadata": {},
     "output_type": "execute_result"
    }
   ],
   "source": [
    "tdf"
   ]
  },
  {
   "cell_type": "code",
   "execution_count": 285,
   "metadata": {},
   "outputs": [
    {
     "data": {
      "text/plain": [
       "member_id                               int64\n",
       "loan_amnt                              object\n",
       "funded_amnt                            object\n",
       "funded_amnt_inv                        object\n",
       "term                                    int64\n",
       "int_rate                               object\n",
       "installment                            object\n",
       "grade                                  object\n",
       "sub_grade                              object\n",
       "is_inc_v                               object\n",
       "issue_d                        datetime64[ns]\n",
       "loan_status                            object\n",
       "pymnt_plan                             object\n",
       "purpose                                object\n",
       "revol_bal                              object\n",
       "revol_util                             object\n",
       "initial_list_status                    object\n",
       "out_prncp                              object\n",
       "out_prncp_inv                          object\n",
       "total_pymnt                            object\n",
       "total_pymnt_inv                        object\n",
       "total_rec_prncp                        object\n",
       "total_rec_int                          object\n",
       "total_rec_late_fee                     object\n",
       "recoveries                             object\n",
       "collection_recovery_fee                object\n",
       "last_pymnt_d                   datetime64[ns]\n",
       "last_pymnt_amnt                        object\n",
       "next_pymnt_d                   datetime64[ns]\n",
       "last_credit_pull_d             datetime64[ns]\n",
       "                                    ...      \n",
       "inactive_loans                          int64\n",
       "bad_loans                              object\n",
       "emp_length_num                         object\n",
       "sub_grade_num                          object\n",
       "delinq_2yrs_zero                       object\n",
       "pub_rec_zero                           object\n",
       "collections_12_mths_zero               object\n",
       "short_emp                              object\n",
       "payment_inc_ratio                      object\n",
       "final_d                        datetime64[ns]\n",
       "last_delinq_none                       object\n",
       "last_record_none                       object\n",
       "last_major_derog_none                  object\n",
       "emp_title                              object\n",
       "emp_length                              int64\n",
       "home_ownership                         object\n",
       "annual_inc                             object\n",
       "zip_code                               object\n",
       "addr_state                             object\n",
       "dti                                    object\n",
       "delinq_2yrs                            object\n",
       "earliest_cr_line                       object\n",
       "inq_last_6mths                         object\n",
       "mths_since_last_delinq                 object\n",
       "open_acc                               object\n",
       "pub_rec                                object\n",
       "total_acc                              object\n",
       "mths_since_last_major_derog            object\n",
       "deliquency                             object\n",
       "new                                   float64\n",
       "Length: 63, dtype: object"
      ]
     },
     "execution_count": 285,
     "metadata": {},
     "output_type": "execute_result"
    }
   ],
   "source": [
    "df.dtypes"
   ]
  },
  {
   "cell_type": "code",
   "execution_count": null,
   "metadata": {
    "collapsed": true
   },
   "outputs": [],
   "source": []
  }
 ],
 "metadata": {
  "kernelspec": {
   "display_name": "Python 2",
   "language": "python",
   "name": "python2"
  },
  "language_info": {
   "codemirror_mode": {
    "name": "ipython",
    "version": 2
   },
   "file_extension": ".py",
   "mimetype": "text/x-python",
   "name": "python",
   "nbconvert_exporter": "python",
   "pygments_lexer": "ipython2",
   "version": "2.7.14"
  }
 },
 "nbformat": 4,
 "nbformat_minor": 2
}
