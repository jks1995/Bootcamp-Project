{
 "cells": [
  {
   "cell_type": "code",
   "execution_count": 4,
   "metadata": {
    "collapsed": true
   },
   "outputs": [],
   "source": [
    "import mysql.connector\n",
    "import pandas as pd\n",
    "import csv\n",
    "from datetime import datetime\n",
    "#from uszipcode import ZipcodeSearchEngine\n",
    "from pprint import pprint\n",
    "\n",
    "# credentials for connecting to the MySQL db\n",
    "import json\n",
    "db_creds = json.load(open('hidden/creds.json'))\n",
    "\n",
    "def getDBCursor(creds):\n",
    "    \"\"\"\n",
    "    Get the cursor for the db to perform transaction.\n",
    "\n",
    "    Input: creds (dictionary of login credentials)\n",
    "    Output: MySQL Connection, MySQl cursor object\n",
    "    \"\"\"\n",
    "    cnx = mysql.connector.connect(**creds)\n",
    "    return cnx, cnx.cursor()\n",
    "\n",
    "def getDBConn(creds):\n",
    "    \"\"\"\n",
    "    Get the connection to the db (primarily to use with Pandas)\n",
    "    \n",
    "    Input: creds (dictionary of login credentials)\n",
    "    Output: MySQL Connection\n",
    "    \"\"\"\n",
    "    return mysql.connector.connect(**creds)\n",
    "\n",
    "def queryDB(cursor, query):\n",
    "    \"\"\"\n",
    "    Execute a sql query.\n",
    "\n",
    "    Input: cursor (MySQL cursor object), query (string of sql query)\n",
    "    Output: dictionary containing the lines of the query\n",
    "    \"\"\"\n",
    "    cursor.execute(query)\n",
    "    return cursor.fetchall()\n",
    "\n",
    "\n",
    "def executeQuery(creds, query):\n",
    "    \"\"\"\n",
    "    Executes a query by connecting, querying, and closes the db connection\n",
    "\n",
    "    Input: creds (db login credentials), query (string of sql query)\n",
    "    Output: dictionary of query results\n",
    "    \"\"\"\n",
    "    result = None\n",
    "    try:\n",
    "        conn, cursor = getDBCursor(creds)\n",
    "        result = queryDB(cursor, query)\n",
    "    except Error as e:\n",
    "        print(e)\n",
    "    finally:\n",
    "        conn.close()\n",
    "        cursor.close()\n",
    "    return result\n",
    "\n",
    "def getDataFrame(filename):\n",
    "    \"\"\"\n",
    "    \"\"\"\n",
    "    \n",
    "def cleanData(filename):\n",
    "    \"\"\"\n",
    "    Create a pandas dataframe from a file. Clean up the dates.\n",
    "    \n",
    "    Input: csv filename (str)\n",
    "    Output: pandas dataframe object\n",
    "    \"\"\"\n",
    "    try:\n",
    "        df = pd.read_csv(filename)\n",
    "    except IOError:\n",
    "        print 'Use a csv file.'\n",
    "        \n",
    "    for col in list(df.columns.values):\n",
    "        if col.endswith('_d'):\n",
    "            try: # exception thrown when nan's occure\n",
    "                df[col] = df[col].apply(lambda x: datetime.strptime(x[:8], '%Y%d%m'))\n",
    "            except Exception as e:\n",
    "                continue\n",
    "    return df"
   ]
  },
  {
   "cell_type": "code",
   "execution_count": null,
   "metadata": {
    "collapsed": true
   },
   "outputs": [],
   "source": [
    "col_names = executeQuery(db_creds, \"describe Bootcamp.Postal_Codes_Tbl\")\n",
    "data = executeQuery(db_creds, \"select * from Bootcamp.Postal_Codes_Tbl limit 1\")"
   ]
  },
  {
   "cell_type": "code",
   "execution_count": null,
   "metadata": {
    "collapsed": true
   },
   "outputs": [],
   "source": [
    "x = []\n",
    "for i in col_names:\n",
    "    x.append(str(i[0]))\n",
    "y = []\n",
    "for i in col_names:\n",
    "    y.append(str(i[1]))\n",
    "z = []\n",
    "for i in data[0]:\n",
    "    z.append(str(i))"
   ]
  },
  {
   "cell_type": "code",
   "execution_count": null,
   "metadata": {
    "collapsed": true
   },
   "outputs": [],
   "source": [
    "data"
   ]
  },
  {
   "cell_type": "code",
   "execution_count": null,
   "metadata": {
    "collapsed": true
   },
   "outputs": [],
   "source": [
    "f = open('data_info.csv', 'w')"
   ]
  },
  {
   "cell_type": "code",
   "execution_count": null,
   "metadata": {
    "collapsed": true
   },
   "outputs": [],
   "source": [
    "f.write(','.join(x))\n",
    "f.write('\\n')\n",
    "f.write(','.join(y))\n",
    "f.write('\\n')\n",
    "f.write(','.join(z))"
   ]
  },
  {
   "cell_type": "code",
   "execution_count": null,
   "metadata": {
    "collapsed": true
   },
   "outputs": [],
   "source": [
    "f.close()"
   ]
  },
  {
   "cell_type": "code",
   "execution_count": null,
   "metadata": {
    "collapsed": true
   },
   "outputs": [],
   "source": [
    "i = 0\n",
    "row = None\n",
    "with open('YYYY_Data_datatype.csv') as f:\n",
    "    for line in f:\n",
    "        if i == 3:\n",
    "            row = line\n",
    "            break\n",
    "        i += 1\n",
    "row = row.strip().split(',')"
   ]
  },
  {
   "cell_type": "code",
   "execution_count": null,
   "metadata": {
    "collapsed": true
   },
   "outputs": [],
   "source": [
    "dtypes = ['double', 'int', 'date']\n",
    "type_array = []\n",
    "to_add = None\n",
    "for i in range(len(row)):\n",
    "    if i == 0: \n",
    "        continue\n",
    "    to_add = row[i] if row[i] in dtypes else ''\n",
    "    type_array.append(to_add)"
   ]
  },
  {
   "cell_type": "code",
   "execution_count": null,
   "metadata": {
    "collapsed": true
   },
   "outputs": [],
   "source": [
    "df = pd.read_csv('2008_data.csv')"
   ]
  },
  {
   "cell_type": "code",
   "execution_count": null,
   "metadata": {
    "collapsed": true
   },
   "outputs": [],
   "source": [
    "membs = {}\n",
    "for x in list(df.columns.values):\n",
    "    membs[x] = df[x].unique()"
   ]
  },
  {
   "cell_type": "code",
   "execution_count": null,
   "metadata": {
    "collapsed": true
   },
   "outputs": [],
   "source": [
    "with open('2008_data_unique_vals.csv', 'w') as f:\n",
    "    w = csv.writer(f)\n",
    "    w.writerows(membs.items())"
   ]
  },
  {
   "cell_type": "code",
   "execution_count": null,
   "metadata": {
    "collapsed": true
   },
   "outputs": [],
   "source": [
    "df = pd.read_csv('2008_data.csv')\n",
    "for col in list(df.columns.values):\n",
    "    if col.endswith('_d'):\n",
    "        try: # exception thrown when nan's occure\n",
    "            df[col] = df[col].apply(lambda x: datetime.strptime(x[:8], '%Y%d%m'))\n",
    "        except Exception as e:\n",
    "            print col"
   ]
  },
  {
   "cell_type": "code",
   "execution_count": null,
   "metadata": {
    "collapsed": true
   },
   "outputs": [],
   "source": [
    "df.tail()"
   ]
  },
  {
   "cell_type": "code",
   "execution_count": null,
   "metadata": {
    "collapsed": true
   },
   "outputs": [],
   "source": [
    "\n",
    "search = ZipcodeSearchEngine()\n",
    "zipcode = search.by_coordinate(43.0059,-71.0132, returns=1)"
   ]
  },
  {
   "cell_type": "code",
   "execution_count": null,
   "metadata": {
    "collapsed": true
   },
   "outputs": [],
   "source": [
    "pprint(zipcode[0])"
   ]
  },
  {
   "cell_type": "code",
   "execution_count": null,
   "metadata": {
    "collapsed": true
   },
   "outputs": [],
   "source": [
    "for i in range(len(zipcode)):\n",
    "    print zipcode[i]['Zipcode']\n",
    "    "
   ]
  },
  {
   "cell_type": "code",
   "execution_count": 14,
   "metadata": {},
   "outputs": [],
   "source": [
    "member_info_query = \"SELECT * FROM Bootcamp.Member_Information LIMIT 10\"\n",
    "df = pd.read_sql_query(member_info_query, getDBConn(db_creds))"
   ]
  },
  {
   "cell_type": "code",
   "execution_count": 15,
   "metadata": {},
   "outputs": [
    {
     "data": {
      "text/html": [
       "<div>\n",
       "<style>\n",
       "    .dataframe thead tr:only-child th {\n",
       "        text-align: right;\n",
       "    }\n",
       "\n",
       "    .dataframe thead th {\n",
       "        text-align: left;\n",
       "    }\n",
       "\n",
       "    .dataframe tbody tr th {\n",
       "        vertical-align: top;\n",
       "    }\n",
       "</style>\n",
       "<table border=\"1\" class=\"dataframe\">\n",
       "  <thead>\n",
       "    <tr style=\"text-align: right;\">\n",
       "      <th></th>\n",
       "      <th>member_id</th>\n",
       "      <th>emp_title</th>\n",
       "      <th>emp_length</th>\n",
       "      <th>home_ownership</th>\n",
       "      <th>annual_inc</th>\n",
       "      <th>zip_code</th>\n",
       "      <th>addr_state</th>\n",
       "      <th>dti</th>\n",
       "      <th>delinq_2yrs</th>\n",
       "      <th>earliest_cr_line</th>\n",
       "      <th>inq_last_6mths</th>\n",
       "      <th>mths_since_last_delinq</th>\n",
       "      <th>mths_since_last_record</th>\n",
       "      <th>open_acc</th>\n",
       "      <th>pub_rec</th>\n",
       "      <th>total_acc</th>\n",
       "      <th>mths_since_last_major_derog</th>\n",
       "    </tr>\n",
       "  </thead>\n",
       "  <tbody>\n",
       "    <tr>\n",
       "      <th>0</th>\n",
       "      <td>70473</td>\n",
       "      <td></td>\n",
       "      <td>&lt; 1 year</td>\n",
       "      <td>RENT</td>\n",
       "      <td>120000</td>\n",
       "      <td>024xx</td>\n",
       "      <td>MA</td>\n",
       "      <td>4</td>\n",
       "      <td></td>\n",
       "      <td></td>\n",
       "      <td></td>\n",
       "      <td></td>\n",
       "      <td></td>\n",
       "      <td></td>\n",
       "      <td></td>\n",
       "      <td></td>\n",
       "      <td></td>\n",
       "    </tr>\n",
       "    <tr>\n",
       "      <th>1</th>\n",
       "      <td>70626</td>\n",
       "      <td></td>\n",
       "      <td>&lt; 1 year</td>\n",
       "      <td>OWN</td>\n",
       "      <td>20000</td>\n",
       "      <td>024xx</td>\n",
       "      <td>MA</td>\n",
       "      <td>10</td>\n",
       "      <td></td>\n",
       "      <td></td>\n",
       "      <td></td>\n",
       "      <td></td>\n",
       "      <td></td>\n",
       "      <td></td>\n",
       "      <td></td>\n",
       "      <td></td>\n",
       "      <td></td>\n",
       "    </tr>\n",
       "    <tr>\n",
       "      <th>2</th>\n",
       "      <td>70651</td>\n",
       "      <td></td>\n",
       "      <td>&lt; 1 year</td>\n",
       "      <td>MORTGAGE</td>\n",
       "      <td>150000</td>\n",
       "      <td>019xx</td>\n",
       "      <td>MA</td>\n",
       "      <td>10</td>\n",
       "      <td></td>\n",
       "      <td></td>\n",
       "      <td></td>\n",
       "      <td></td>\n",
       "      <td></td>\n",
       "      <td></td>\n",
       "      <td></td>\n",
       "      <td></td>\n",
       "      <td></td>\n",
       "    </tr>\n",
       "    <tr>\n",
       "      <th>3</th>\n",
       "      <td>70681</td>\n",
       "      <td>Homemaker</td>\n",
       "      <td>10+ years</td>\n",
       "      <td>MORTGAGE</td>\n",
       "      <td>70000</td>\n",
       "      <td>068xx</td>\n",
       "      <td>CT</td>\n",
       "      <td>8.81</td>\n",
       "      <td></td>\n",
       "      <td></td>\n",
       "      <td></td>\n",
       "      <td></td>\n",
       "      <td></td>\n",
       "      <td></td>\n",
       "      <td></td>\n",
       "      <td></td>\n",
       "      <td></td>\n",
       "    </tr>\n",
       "    <tr>\n",
       "      <th>4</th>\n",
       "      <td>70694</td>\n",
       "      <td>Outstanding Pool &amp; Spa</td>\n",
       "      <td>9 years</td>\n",
       "      <td>MORTGAGE</td>\n",
       "      <td>55000</td>\n",
       "      <td>287xx</td>\n",
       "      <td>NC</td>\n",
       "      <td>10</td>\n",
       "      <td>0</td>\n",
       "      <td>19981001T000000</td>\n",
       "      <td>4</td>\n",
       "      <td></td>\n",
       "      <td></td>\n",
       "      <td>6</td>\n",
       "      <td>0</td>\n",
       "      <td>13</td>\n",
       "      <td></td>\n",
       "    </tr>\n",
       "    <tr>\n",
       "      <th>5</th>\n",
       "      <td>70699</td>\n",
       "      <td>Rail Europe Group</td>\n",
       "      <td>4 years</td>\n",
       "      <td>RENT</td>\n",
       "      <td>200000</td>\n",
       "      <td>100xx</td>\n",
       "      <td>NY</td>\n",
       "      <td>0.28</td>\n",
       "      <td>0</td>\n",
       "      <td>19950301T000000</td>\n",
       "      <td>0</td>\n",
       "      <td>0</td>\n",
       "      <td>0</td>\n",
       "      <td>2</td>\n",
       "      <td>0</td>\n",
       "      <td>2</td>\n",
       "      <td></td>\n",
       "    </tr>\n",
       "    <tr>\n",
       "      <th>6</th>\n",
       "      <td>70735</td>\n",
       "      <td></td>\n",
       "      <td>&lt; 1 year</td>\n",
       "      <td>OTHER</td>\n",
       "      <td></td>\n",
       "      <td>100xx</td>\n",
       "      <td>NY</td>\n",
       "      <td>4</td>\n",
       "      <td></td>\n",
       "      <td></td>\n",
       "      <td></td>\n",
       "      <td></td>\n",
       "      <td></td>\n",
       "      <td></td>\n",
       "      <td></td>\n",
       "      <td></td>\n",
       "      <td></td>\n",
       "    </tr>\n",
       "    <tr>\n",
       "      <th>7</th>\n",
       "      <td>70868</td>\n",
       "      <td></td>\n",
       "      <td>&lt; 1 year</td>\n",
       "      <td>RENT</td>\n",
       "      <td>110000</td>\n",
       "      <td>100xx</td>\n",
       "      <td>NY</td>\n",
       "      <td>10</td>\n",
       "      <td></td>\n",
       "      <td></td>\n",
       "      <td></td>\n",
       "      <td></td>\n",
       "      <td></td>\n",
       "      <td></td>\n",
       "      <td></td>\n",
       "      <td></td>\n",
       "      <td></td>\n",
       "    </tr>\n",
       "    <tr>\n",
       "      <th>8</th>\n",
       "      <td>70879</td>\n",
       "      <td>Scheduall</td>\n",
       "      <td>1 year</td>\n",
       "      <td>MORTGAGE</td>\n",
       "      <td>100000</td>\n",
       "      <td>333xx</td>\n",
       "      <td>FL</td>\n",
       "      <td>10</td>\n",
       "      <td></td>\n",
       "      <td></td>\n",
       "      <td></td>\n",
       "      <td></td>\n",
       "      <td></td>\n",
       "      <td></td>\n",
       "      <td></td>\n",
       "      <td></td>\n",
       "      <td></td>\n",
       "    </tr>\n",
       "    <tr>\n",
       "      <th>9</th>\n",
       "      <td>70978</td>\n",
       "      <td>self-employed</td>\n",
       "      <td>10+ years</td>\n",
       "      <td>MORTGAGE</td>\n",
       "      <td>300000</td>\n",
       "      <td>068xx</td>\n",
       "      <td>CT</td>\n",
       "      <td>1</td>\n",
       "      <td>0</td>\n",
       "      <td>19840201T000000</td>\n",
       "      <td>0</td>\n",
       "      <td></td>\n",
       "      <td></td>\n",
       "      <td>8</td>\n",
       "      <td>0</td>\n",
       "      <td>18</td>\n",
       "      <td></td>\n",
       "    </tr>\n",
       "  </tbody>\n",
       "</table>\n",
       "</div>"
      ],
      "text/plain": [
       "   member_id               emp_title emp_length home_ownership annual_inc  \\\n",
       "0      70473                           < 1 year           RENT     120000   \n",
       "1      70626                           < 1 year            OWN      20000   \n",
       "2      70651                           < 1 year       MORTGAGE     150000   \n",
       "3      70681               Homemaker  10+ years       MORTGAGE      70000   \n",
       "4      70694  Outstanding Pool & Spa    9 years       MORTGAGE      55000   \n",
       "5      70699       Rail Europe Group    4 years           RENT     200000   \n",
       "6      70735                           < 1 year          OTHER              \n",
       "7      70868                           < 1 year           RENT     110000   \n",
       "8      70879               Scheduall     1 year       MORTGAGE     100000   \n",
       "9      70978           self-employed  10+ years       MORTGAGE     300000   \n",
       "\n",
       "  zip_code addr_state   dti delinq_2yrs earliest_cr_line inq_last_6mths  \\\n",
       "0    024xx         MA     4                                               \n",
       "1    024xx         MA    10                                               \n",
       "2    019xx         MA    10                                               \n",
       "3    068xx         CT  8.81                                               \n",
       "4    287xx         NC    10           0  19981001T000000              4   \n",
       "5    100xx         NY  0.28           0  19950301T000000              0   \n",
       "6    100xx         NY     4                                               \n",
       "7    100xx         NY    10                                               \n",
       "8    333xx         FL    10                                               \n",
       "9    068xx         CT     1           0  19840201T000000              0   \n",
       "\n",
       "  mths_since_last_delinq mths_since_last_record open_acc pub_rec total_acc  \\\n",
       "0                                                                            \n",
       "1                                                                            \n",
       "2                                                                            \n",
       "3                                                                            \n",
       "4                                                      6       0        13   \n",
       "5                      0                      0        2       0         2   \n",
       "6                                                                            \n",
       "7                                                                            \n",
       "8                                                                            \n",
       "9                                                      8       0        18   \n",
       "\n",
       "  mths_since_last_major_derog  \n",
       "0                              \n",
       "1                              \n",
       "2                              \n",
       "3                              \n",
       "4                              \n",
       "5                              \n",
       "6                              \n",
       "7                              \n",
       "8                              \n",
       "9                              "
      ]
     },
     "execution_count": 15,
     "metadata": {},
     "output_type": "execute_result"
    }
   ],
   "source": [
    "df"
   ]
  },
  {
   "cell_type": "code",
   "execution_count": null,
   "metadata": {
    "collapsed": true
   },
   "outputs": [],
   "source": []
  }
 ],
 "metadata": {
  "kernelspec": {
   "display_name": "Python 2",
   "language": "python",
   "name": "python2"
  },
  "language_info": {
   "codemirror_mode": {
    "name": "ipython",
    "version": 2
   },
   "file_extension": ".py",
   "mimetype": "text/x-python",
   "name": "python",
   "nbconvert_exporter": "python",
   "pygments_lexer": "ipython2",
   "version": "2.7.13"
  }
 },
 "nbformat": 4,
 "nbformat_minor": 2
}
