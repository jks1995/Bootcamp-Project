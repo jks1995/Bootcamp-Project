{
 "cells": [
  {
   "cell_type": "code",
   "execution_count": 346,
   "metadata": {
    "collapsed": true
   },
   "outputs": [],
   "source": [
    "import mysql.connector\n",
    "import pandas as pd\n",
    "import csv\n",
    "from datetime import datetime\n",
    "from pprint import pprint\n",
    "from itertools import product\n",
    "\n",
    "# credentials for connecting to the MySQL db\n",
    "import json\n",
    "db_creds = json.load(open('hidden/creds.json'))\n",
    "\n",
    "grades = 'ABCDEFG'\n",
    "tmp_df = None\n",
    "\n",
    "def getDBCursor(creds):\n",
    "    \"\"\"\n",
    "    Get the cursor for the db to perform transaction.\n",
    "\n",
    "    Input: creds (dictionary of login credentials)\n",
    "    Output: MySQL Connection, MySQl cursor object\n",
    "    \"\"\"\n",
    "    cnx = mysql.connector.connect(**creds)\n",
    "    return cnx, cnx.cursor()\n",
    "\n",
    "def queryDB(cursor, query):\n",
    "    \"\"\"\n",
    "    Execute a sql query.\n",
    "\n",
    "    Input: cursor (MySQL cursor object), query (string of sql query)\n",
    "    Output: dictionary containing the lines of the query\n",
    "    \"\"\"\n",
    "    cursor.execute(query)\n",
    "    return cursor.fetchall()\n",
    "\n",
    "def getAllYearsData(conn, start_year, end_year):\n",
    "    \"\"\"\n",
    "    Get a dataframe with all the years data.\n",
    "    \n",
    "    Input: conn (db connection), start_year (int), end_year int)\n",
    "    Output: df (dataframe)\n",
    "    \"\"\"\n",
    "    df = pd.DataFrame()\n",
    "    for year in range(start_year, end_year + 1):\n",
    "        df = pd.concat([df, pd.read_sql('SELECT * FROM Bootcamp.{}_Data'.format(str(year)), con=conn)])\n",
    "    return df\n",
    "\n",
    "def getMemberInfo(conn):\n",
    "    \"\"\"\n",
    "    Get the membership information table in a dataframe\n",
    "    \n",
    "    Input: conn (db connection)\n",
    "    Output: dataframe\n",
    "    \"\"\"\n",
    "    return pd.read_sql('SELECT * FROM Bootcamp.Member_Information', con=conn)\n",
    "    \n",
    "def getBootcampData(creds, start_year, end_year):\n",
    "    \"\"\"\n",
    "    Input: creds (db credentials)\n",
    "    Output: dataframe with the combined member_id and year info\n",
    "    \"\"\"\n",
    "    cnx, curs = getDBCursor(creds)\n",
    "    year_df = getAllYearsData(cnx, start_year, end_year)\n",
    "    mem_df = getMemberInfo(cnx)\n",
    "    cnx.close()\n",
    "    curs.close()\n",
    "    # drop rows without a loan amount (ex. only a subset of the years is requested.)\n",
    "    return pd.merge(year_df, mem_df, on='member_id', how='outer') \n",
    "\n",
    "def executeQuery(creds, query):\n",
    "    \"\"\"\n",
    "    Executes a query by connecting, querying, and closes the db connection\n",
    "\n",
    "    Input: creds (db login credentials), query (string of sql query)\n",
    "    Output: dictionary of query results\n",
    "    \"\"\"\n",
    "    result = None\n",
    "    try:\n",
    "        conn, cursor = getDBCursor(creds)\n",
    "        result = queryDB(cursor, query)\n",
    "    except Error as e:\n",
    "        print(e)\n",
    "    finally:\n",
    "        conn.close()\n",
    "        cursor.close()\n",
    "    return result\n",
    "\n",
    "def getDataFrame(filename):\n",
    "    \"\"\"\n",
    "    Create a pandas dataframe from a file.\n",
    "    \n",
    "    Input: filename (csv file, str)\n",
    "    Output: pandas dataframe\n",
    "    \"\"\"\n",
    "    try:\n",
    "        df = pd.read_csv(filename)\n",
    "    except IOError:\n",
    "        print 'Use a csv file.'\n",
    "        \n",
    "    return df\n",
    "    \n",
    "def cleanData():\n",
    "    \"\"\"\n",
    "    Create a pandas dataframe from a file. Clean up the dates.\n",
    "    \n",
    "    Input: csv filename (str)\n",
    "    Output: pandas dataframe object\n",
    "    \"\"\"\n",
    "    df = getBootcampData(db_creds, 2007, 2009).apply(pd.to_numeric, errors='ignore')\n",
    "\n",
    "    # delete rows with nulls in these columns\n",
    "    df = dropNanRowsColSpecific(df, ['loan_amnt', 'open_acc', 'pub_rec', 'total_acc', 'inq_last_6mths'])\n",
    "    \n",
    "    # clean the rows that have incorrect amounts\n",
    "    df = fixFundedToApplied(df)\n",
    "    \n",
    "    # fix dates\n",
    "    for col in list(df.columns.values): \n",
    "        if col.endswith('_d') or col in ['earliest_cr_line']:\n",
    "            df[col] = df[col].apply(lambda x: cleanDate(x.strip()))\n",
    "                \n",
    "    # drop unneccessary columns\n",
    "    col_to_drop = ['id', 'loan_status', 'url', 'desc', 'title', 'revol_bal', 'revol_util', \n",
    "                   'policy_code', 'grade_num', 'sub_grade_num', 'mths_since_last_record',\n",
    "                  'collections_12_mths_zero', 'payment_inc_ratio', 'emp_title', 'emp_length',\n",
    "                  'mths_since_last_major_derog', 'mths_since_last_record', 'delinq_2yrs_zero']\n",
    "    df.drop(col_to_drop, axis=1, inplace=True)\n",
    "    \n",
    "#     # fix employment length # removed bc update in spreadsheet\n",
    "#     df['emp_length'] = df['emp_length'].apply(lambda x: fixEmpLength(x))\n",
    "    \n",
    "    # fill nan's with specified values\n",
    "    nan_fill = {\n",
    "        'term': 0\n",
    "    }\n",
    "    df.fillna(nan_fill, inplace=True)\n",
    "    \n",
    "    df = fixTerm(df)\n",
    "    df = fixInitListStatus(df)\n",
    "    df = fixGrade(df)\n",
    "    df = fixIsIncV(df)\n",
    "    df = fixBinary01(df, 'inactive_loans')\n",
    "    df = fixBinary01(df, 'bad_loans')\n",
    "# #     df = fixBinary01(df, 'delinq_2yrs_zero')\n",
    "#     df = fixBinary01(df, 'pub_rec_zero')\n",
    "    \n",
    "    return df\n",
    "\n",
    "def cleanDate(in_date):\n",
    "    \"\"\"\n",
    "    Turn str into date.\n",
    "    \n",
    "    Input: in_date (str)\n",
    "    Output: datetime obj \n",
    "    \"\"\"\n",
    "    if len(in_date) > 8:\n",
    "        return datetime.strptime(in_date[:8], '%Y%m%d')\n",
    "    else:\n",
    "        return ''\n",
    "    \n",
    "def dropNanRowsColSpecific(df, col_to_drop):\n",
    "    \"\"\"\n",
    "    Drop the rows from the df that have nulls in the specified columns.\n",
    "    \n",
    "    Input: df (dataframe), cols_to_drop (list of strings)\n",
    "    Output: df (dataframe)\n",
    "    \"\"\"\n",
    "    return df.dropna(subset=col_to_drop, how='any') # add inplace if needed\n",
    "\n",
    "def fixGrade(df):\n",
    "    \"\"\"\n",
    "    Remove grades outside of range a-g\n",
    "    Input: df (dataframe)\n",
    "    Output: dataframe\n",
    "    \"\"\"\n",
    "    df['grade'] = df['grade'].apply(lambda x: x.upper())\n",
    "    return df[df['grade'].isin(list(grades))]\n",
    "\n",
    "def fixTerm(df):\n",
    "    \"\"\"\n",
    "    Drop the month part of the term and cast as int.\n",
    "    \n",
    "    Input: df (dataframe)\n",
    "    Output: df (dataframe)\n",
    "    \"\"\"\n",
    "    df['term'] = df['term'].apply(lambda x: int(x.split()[0]))\n",
    "    return df\n",
    "\n",
    "def fixFundedToApplied(df):\n",
    "    \"\"\"\n",
    "    If funded > applied amount remove the record.\n",
    "    \n",
    "    Input: df (dataframe)\n",
    "    Output: df (dataframe)\n",
    "    \"\"\"\n",
    "    # only keep the records where they were funded less that they applied for\n",
    "    df = df[df['funded_amnt'] < 2* df['loan_amnt']]\n",
    "    return df[df['funded_amnt'] <= df['funded_amnt_inv']]\n",
    "\n",
    "def fixInitListStatus(df):\n",
    "    \"\"\"\n",
    "    Remove rows that aren't F or W\n",
    "    \n",
    "    Input: df (dataframe)\n",
    "    Output: df (dataframe)\n",
    "    \"\"\"\n",
    "    df['initial_list_status'] = df['initial_list_status'].apply(lambda x: x.upper())\n",
    "    return df[df['initial_list_status'].isin(['F', 'W'])]\n",
    "\n",
    "def fixEmpLength(value):\n",
    "    \"\"\"\n",
    "    Clean employment length, should only contain a numeric integer value\n",
    "    i.e. 10+ years transforms to 10\n",
    "         < 1 transforms to 1\n",
    "         \n",
    "    Input: value of cell (String)\n",
    "    Output: years of employment (Int)\n",
    "    \"\"\"\n",
    "    value = value.strip()\n",
    "    if value.startswith('< 1'):\n",
    "        return int(1)\n",
    "    if value.startswith('10') and value[2] == '+':\n",
    "        return int(10)\n",
    "    \n",
    "    splitVal = value.split(' ')\n",
    "    if (splitVal[0].isdigit()):\n",
    "        value = splitVal[0]\n",
    "        \n",
    "    return int(value)\n",
    "\n",
    "def fixSubGrade(df):\n",
    "    \"\"\"\n",
    "    Remove rows that don't have a subgrade A1,A2,A3,A4,A5,....,G1...G4,G5\n",
    "    \n",
    "    Input: df (dataframe)\n",
    "    Output: df (dataframe)\n",
    "    \"\"\"\n",
    "    sub_grades = [''.join([x[0], str(x[1])]) for x in product(grades, range(1,6))]\n",
    "    df['sub_grade'] = df['sub_grade'].apply(lambda x: x.upper()) # make everything uppercase\n",
    "    return df[df['sub_grade'].isin(sub_grade)]\n",
    "    \n",
    "def fixIsIncV(df):\n",
    "    \"\"\"\n",
    "    Remove if row doesn't have enumerated status.\n",
    "    \n",
    "    Input: df (dataframe)\n",
    "    Output: df (dataframe)\n",
    "    \"\"\"\n",
    "    return df[df['is_inc_v'].isin([\"Verified\", \"Source Verified\", \"Not Verified\"])]\n",
    "\n",
    "def fixPaymentPlan(df):\n",
    "    \"\"\"\n",
    "    Only leave boolean (val 'n', 'y').\n",
    "    \n",
    "    Input: df (dataframe)\n",
    "    Output: df (dataframe)\n",
    "    \"\"\"\n",
    "    df['pymnt_plan'] = df['pymnt_plan'].apply(lambda x: x.lower())\n",
    "    return df[df['pymnt_plan'].isin(['n', 'y'])]\n",
    "\n",
    "def fixPurpose(df):\n",
    "    \"\"\"\n",
    "    Only leave enumerated values. \n",
    "    \n",
    "    Input: df (dataframe)\n",
    "    Output: df (dataframe)\n",
    "    \"\"\"\n",
    "    purposes = [\"car\", \"credit_card\", \"other\", \"house\", \"debt_consolidation\",\n",
    "                \"home_improvement\", \"small_business\", \"medical\", \"vacation\",\n",
    "                \"moving\", \"wedding\", \"major_purchase\"]\n",
    "    return df[df['purpose'].isin(purposes)]\n",
    "\n",
    "def fixBinary01(df, col_name):\n",
    "    \"\"\"\n",
    "    Only leave boolean (val 0, 1).\n",
    "    \n",
    "    Input: df (dataframe)\n",
    "    Output: df (dataframe)\n",
    "    \"\"\"\n",
    "    df[col_name] = df[col_name].astype(int, errors='ignore')\n",
    "    return df[df[col_name].isin(range(2))]"
   ]
  },
  {
   "cell_type": "code",
   "execution_count": 2,
   "metadata": {
    "collapsed": true
   },
   "outputs": [],
   "source": [
    "col_names = executeQuery(db_creds, \"describe Bootcamp.Postal_Codes_Tbl\")\n",
    "data = executeQuery(db_creds, \"select * from Bootcamp.Postal_Codes_Tbl limit 1\")"
   ]
  },
  {
   "cell_type": "code",
   "execution_count": 3,
   "metadata": {
    "collapsed": true
   },
   "outputs": [],
   "source": [
    "x = []\n",
    "for i in col_names:\n",
    "    x.append(str(i[0]))\n",
    "y = []\n",
    "for i in col_names:\n",
    "    y.append(str(i[1]))\n",
    "z = []\n",
    "for i in data[0]:\n",
    "    z.append(str(i))"
   ]
  },
  {
   "cell_type": "code",
   "execution_count": 4,
   "metadata": {},
   "outputs": [
    {
     "data": {
      "text/plain": [
       "[(u'210',\n",
       "  u'Portsmouth',\n",
       "  u'New Hampshire',\n",
       "  u'NH',\n",
       "  u'Rockingham',\n",
       "  u'43.0059',\n",
       "  u'-71.0132')]"
      ]
     },
     "execution_count": 4,
     "metadata": {},
     "output_type": "execute_result"
    }
   ],
   "source": [
    "data"
   ]
  },
  {
   "cell_type": "code",
   "execution_count": 5,
   "metadata": {
    "collapsed": true
   },
   "outputs": [],
   "source": [
    "f = open('data_info.csv', 'w')"
   ]
  },
  {
   "cell_type": "code",
   "execution_count": 6,
   "metadata": {
    "collapsed": true
   },
   "outputs": [],
   "source": [
    "f.write(','.join(x))\n",
    "f.write('\\n')\n",
    "f.write(','.join(y))\n",
    "f.write('\\n')\n",
    "f.write(','.join(z))"
   ]
  },
  {
   "cell_type": "code",
   "execution_count": 7,
   "metadata": {
    "collapsed": true
   },
   "outputs": [],
   "source": [
    "f.close()"
   ]
  },
  {
   "cell_type": "code",
   "execution_count": 8,
   "metadata": {
    "collapsed": true
   },
   "outputs": [],
   "source": [
    "i = 0\n",
    "row = None\n",
    "with open('YYYY_Data_datatype.csv') as f:\n",
    "    for line in f:\n",
    "        if i == 3:\n",
    "            row = line\n",
    "            break\n",
    "        i += 1\n",
    "row = row.strip().split(',')"
   ]
  },
  {
   "cell_type": "code",
   "execution_count": 35,
   "metadata": {
    "collapsed": true
   },
   "outputs": [],
   "source": [
    "dtypes = ['double', 'int', 'date']\n",
    "type_array = []\n",
    "to_add = None\n",
    "for i in range(len(row)):\n",
    "    if i == 0: \n",
    "        continue\n",
    "    to_add = row[i] if row[i] in dtypes else ''\n",
    "    type_array.append(to_add)"
   ]
  },
  {
   "cell_type": "code",
   "execution_count": 66,
   "metadata": {
    "collapsed": true
   },
   "outputs": [],
   "source": [
    "df2 = pd.read_csv('2008_data.csv')"
   ]
  },
  {
   "cell_type": "code",
   "execution_count": 53,
   "metadata": {
    "collapsed": true
   },
   "outputs": [],
   "source": [
    "membs = {}\n",
    "for x in list(df.columns.values):\n",
    "    membs[x] = df[x].unique()"
   ]
  },
  {
   "cell_type": "code",
   "execution_count": 57,
   "metadata": {
    "collapsed": true
   },
   "outputs": [],
   "source": [
    "with open('2008_data_unique_vals.csv', 'w') as f:\n",
    "    w = csv.writer(f)\n",
    "    w.writerows(membs.items())"
   ]
  },
  {
   "cell_type": "code",
   "execution_count": 18,
   "metadata": {},
   "outputs": [
    {
     "name": "stdout",
     "output_type": "stream",
     "text": [
      "last_pymnt_d\n",
      "next_pymnt_d\n"
     ]
    }
   ],
   "source": [
    "df = pd.read_csv('2008_data.csv')\n",
    "for col in list(df.columns.values):\n",
    "    if col.endswith('_d'):\n",
    "        try: # exception thrown when nan's occure\n",
    "            df[col] = df[col].apply(lambda x: datetime.strptime(x[:8], '%Y%d%m'))\n",
    "        except Exception as e:\n",
    "            print col"
   ]
  },
  {
   "cell_type": "code",
   "execution_count": 72,
   "metadata": {
    "scrolled": true
   },
   "outputs": [
    {
     "data": {
      "text/html": [
       "<div>\n",
       "<style scoped>\n",
       "    .dataframe tbody tr th:only-of-type {\n",
       "        vertical-align: middle;\n",
       "    }\n",
       "\n",
       "    .dataframe tbody tr th {\n",
       "        vertical-align: top;\n",
       "    }\n",
       "\n",
       "    .dataframe thead th {\n",
       "        text-align: right;\n",
       "    }\n",
       "</style>\n",
       "<table border=\"1\" class=\"dataframe\">\n",
       "  <thead>\n",
       "    <tr style=\"text-align: right;\">\n",
       "      <th></th>\n",
       "      <th>id</th>\n",
       "      <th>member_id</th>\n",
       "      <th>loan_amnt</th>\n",
       "      <th>funded_amnt</th>\n",
       "      <th>funded_amnt_inv</th>\n",
       "      <th>term</th>\n",
       "      <th>int_rate</th>\n",
       "      <th>installment</th>\n",
       "      <th>grade</th>\n",
       "      <th>sub_grade</th>\n",
       "      <th>...</th>\n",
       "      <th>sub_grade_num</th>\n",
       "      <th>delinq_2yrs_zero</th>\n",
       "      <th>pub_rec_zero</th>\n",
       "      <th>collections_12_mths_zero</th>\n",
       "      <th>short_emp</th>\n",
       "      <th>payment_inc_ratio</th>\n",
       "      <th>final_d</th>\n",
       "      <th>last_delinq_none</th>\n",
       "      <th>last_record_none</th>\n",
       "      <th>last_major_derog_none</th>\n",
       "    </tr>\n",
       "  </thead>\n",
       "  <tbody>\n",
       "    <tr>\n",
       "      <th>2388</th>\n",
       "      <td>369630</td>\n",
       "      <td>385659</td>\n",
       "      <td>2000</td>\n",
       "      <td>2000</td>\n",
       "      <td>1800</td>\n",
       "      <td>36 months</td>\n",
       "      <td>8.00</td>\n",
       "      <td>62.68</td>\n",
       "      <td>A</td>\n",
       "      <td>A3</td>\n",
       "      <td>...</td>\n",
       "      <td>0.6</td>\n",
       "      <td>1</td>\n",
       "      <td>1</td>\n",
       "      <td>1</td>\n",
       "      <td>1</td>\n",
       "      <td>1.50432</td>\n",
       "      <td>2011-01-12</td>\n",
       "      <td>1</td>\n",
       "      <td>1</td>\n",
       "      <td>1</td>\n",
       "    </tr>\n",
       "    <tr>\n",
       "      <th>2389</th>\n",
       "      <td>369673</td>\n",
       "      <td>385732</td>\n",
       "      <td>15000</td>\n",
       "      <td>15000</td>\n",
       "      <td>5522</td>\n",
       "      <td>36 months</td>\n",
       "      <td>12.84</td>\n",
       "      <td>504.27</td>\n",
       "      <td>C</td>\n",
       "      <td>C2</td>\n",
       "      <td>...</td>\n",
       "      <td>0.4</td>\n",
       "      <td>1</td>\n",
       "      <td>1</td>\n",
       "      <td>1</td>\n",
       "      <td>0</td>\n",
       "      <td>3.31575</td>\n",
       "      <td>2011-01-12</td>\n",
       "      <td>1</td>\n",
       "      <td>1</td>\n",
       "      <td>1</td>\n",
       "    </tr>\n",
       "    <tr>\n",
       "      <th>2390</th>\n",
       "      <td>369701</td>\n",
       "      <td>385797</td>\n",
       "      <td>10000</td>\n",
       "      <td>10000</td>\n",
       "      <td>3808</td>\n",
       "      <td>36 months</td>\n",
       "      <td>12.53</td>\n",
       "      <td>334.67</td>\n",
       "      <td>C</td>\n",
       "      <td>C1</td>\n",
       "      <td>...</td>\n",
       "      <td>0.2</td>\n",
       "      <td>1</td>\n",
       "      <td>1</td>\n",
       "      <td>1</td>\n",
       "      <td>0</td>\n",
       "      <td>3.52284</td>\n",
       "      <td>2011-01-12</td>\n",
       "      <td>1</td>\n",
       "      <td>1</td>\n",
       "      <td>1</td>\n",
       "    </tr>\n",
       "    <tr>\n",
       "      <th>2391</th>\n",
       "      <td>369713</td>\n",
       "      <td>385363</td>\n",
       "      <td>8600</td>\n",
       "      <td>8600</td>\n",
       "      <td>1932</td>\n",
       "      <td>36 months</td>\n",
       "      <td>11.26</td>\n",
       "      <td>282.63</td>\n",
       "      <td>B</td>\n",
       "      <td>B2</td>\n",
       "      <td>...</td>\n",
       "      <td>0.4</td>\n",
       "      <td>1</td>\n",
       "      <td>1</td>\n",
       "      <td>1</td>\n",
       "      <td>0</td>\n",
       "      <td>6.78312</td>\n",
       "      <td>2011-01-12</td>\n",
       "      <td>0</td>\n",
       "      <td>1</td>\n",
       "      <td>1</td>\n",
       "    </tr>\n",
       "    <tr>\n",
       "      <th>2392</th>\n",
       "      <td>369725</td>\n",
       "      <td>385844</td>\n",
       "      <td>15000</td>\n",
       "      <td>15000</td>\n",
       "      <td>6440</td>\n",
       "      <td>36 months</td>\n",
       "      <td>13.79</td>\n",
       "      <td>511.14</td>\n",
       "      <td>C</td>\n",
       "      <td>C5</td>\n",
       "      <td>...</td>\n",
       "      <td>1.0</td>\n",
       "      <td>1</td>\n",
       "      <td>1</td>\n",
       "      <td>1</td>\n",
       "      <td>0</td>\n",
       "      <td>1.90482</td>\n",
       "      <td>2011-01-12</td>\n",
       "      <td>0</td>\n",
       "      <td>1</td>\n",
       "      <td>1</td>\n",
       "    </tr>\n",
       "  </tbody>\n",
       "</table>\n",
       "<p>5 rows × 52 columns</p>\n",
       "</div>"
      ],
      "text/plain": [
       "          id  member_id  loan_amnt  funded_amnt  funded_amnt_inv        term  \\\n",
       "2388  369630     385659       2000         2000             1800   36 months   \n",
       "2389  369673     385732      15000        15000             5522   36 months   \n",
       "2390  369701     385797      10000        10000             3808   36 months   \n",
       "2391  369713     385363       8600         8600             1932   36 months   \n",
       "2392  369725     385844      15000        15000             6440   36 months   \n",
       "\n",
       "      int_rate  installment grade sub_grade          ...            \\\n",
       "2388      8.00        62.68     A        A3          ...             \n",
       "2389     12.84       504.27     C        C2          ...             \n",
       "2390     12.53       334.67     C        C1          ...             \n",
       "2391     11.26       282.63     B        B2          ...             \n",
       "2392     13.79       511.14     C        C5          ...             \n",
       "\n",
       "     sub_grade_num delinq_2yrs_zero pub_rec_zero collections_12_mths_zero  \\\n",
       "2388           0.6                1            1                        1   \n",
       "2389           0.4                1            1                        1   \n",
       "2390           0.2                1            1                        1   \n",
       "2391           0.4                1            1                        1   \n",
       "2392           1.0                1            1                        1   \n",
       "\n",
       "     short_emp payment_inc_ratio    final_d last_delinq_none  \\\n",
       "2388         1           1.50432 2011-01-12                1   \n",
       "2389         0           3.31575 2011-01-12                1   \n",
       "2390         0           3.52284 2011-01-12                1   \n",
       "2391         0           6.78312 2011-01-12                0   \n",
       "2392         0           1.90482 2011-01-12                0   \n",
       "\n",
       "      last_record_none  last_major_derog_none  \n",
       "2388                 1                      1  \n",
       "2389                 1                      1  \n",
       "2390                 1                      1  \n",
       "2391                 1                      1  \n",
       "2392                 1                      1  \n",
       "\n",
       "[5 rows x 52 columns]"
      ]
     },
     "execution_count": 72,
     "metadata": {},
     "output_type": "execute_result"
    }
   ],
   "source": [
    "df.tail()"
   ]
  },
  {
   "cell_type": "code",
   "execution_count": 130,
   "metadata": {},
   "outputs": [],
   "source": [
    "full_df = getBootcampData(db_creds, 2007, 2009)"
   ]
  },
  {
   "cell_type": "code",
   "execution_count": 131,
   "metadata": {},
   "outputs": [
    {
     "data": {
      "text/plain": [
       "(8277, 68)"
      ]
     },
     "execution_count": 131,
     "metadata": {},
     "output_type": "execute_result"
    }
   ],
   "source": [
    "full_df.shape"
   ]
  },
  {
   "cell_type": "code",
   "execution_count": 35,
   "metadata": {
    "collapsed": true
   },
   "outputs": [],
   "source": [
    "col_to_drop = ['Latitude']\n",
    "mi_df.dropna(subset=col_to_drop, how='any', inplace=True)"
   ]
  },
  {
   "cell_type": "code",
   "execution_count": 40,
   "metadata": {
    "collapsed": true
   },
   "outputs": [],
   "source": [
    "mi_df.fillna({'Latitude':0}, inplace=True)"
   ]
  },
  {
   "cell_type": "code",
   "execution_count": 89,
   "metadata": {
    "collapsed": true
   },
   "outputs": [],
   "source": [
    "df = getBootcampData(db_creds)"
   ]
  },
  {
   "cell_type": "code",
   "execution_count": 347,
   "metadata": {},
   "outputs": [],
   "source": [
    "df = cleanData()"
   ]
  },
  {
   "cell_type": "code",
   "execution_count": 345,
   "metadata": {},
   "outputs": [
    {
     "data": {
      "text/plain": [
       "(1232, 51)"
      ]
     },
     "execution_count": 345,
     "metadata": {},
     "output_type": "execute_result"
    }
   ],
   "source": [
    "df.shape"
   ]
  },
  {
   "cell_type": "code",
   "execution_count": 164,
   "metadata": {},
   "outputs": [
    {
     "data": {
      "text/plain": [
       "(3130, 61)"
      ]
     },
     "execution_count": 164,
     "metadata": {},
     "output_type": "execute_result"
    }
   ],
   "source": [
    "tmp_df.shape"
   ]
  },
  {
   "cell_type": "code",
   "execution_count": 159,
   "metadata": {},
   "outputs": [],
   "source": [
    "tdf = fixPaymentPlan(df)"
   ]
  },
  {
   "cell_type": "code",
   "execution_count": 160,
   "metadata": {},
   "outputs": [
    {
     "data": {
      "text/plain": [
       "(3130, 61)"
      ]
     },
     "execution_count": 160,
     "metadata": {},
     "output_type": "execute_result"
    }
   ],
   "source": [
    "tdf.shape"
   ]
  },
  {
   "cell_type": "code",
   "execution_count": 165,
   "metadata": {},
   "outputs": [
    {
     "data": {
      "text/plain": [
       "array([u'1'], dtype=object)"
      ]
     },
     "execution_count": 165,
     "metadata": {},
     "output_type": "execute_result"
    }
   ],
   "source": [
    "tmp_df['inactive_loans'].unique()"
   ]
  },
  {
   "cell_type": "code",
   "execution_count": 234,
   "metadata": {},
   "outputs": [],
   "source": [
    "tmp_df['inactive_loans'] = tmp_df['inactive_loans'].astype('float')\n",
    "tmp_df['inactive_loans'] = tmp_df['inactive_loans'].astype('int')\n",
    "x = tmp_df[tmp_df['inactive_loans'].isin(range(2))]"
   ]
  },
  {
   "cell_type": "code",
   "execution_count": 235,
   "metadata": {},
   "outputs": [
    {
     "data": {
      "text/plain": [
       "1"
      ]
     },
     "execution_count": 235,
     "metadata": {},
     "output_type": "execute_result"
    }
   ],
   "source": [
    "int(tmp_df['inactive_loans'][2])"
   ]
  },
  {
   "cell_type": "code",
   "execution_count": 182,
   "metadata": {
    "collapsed": true
   },
   "outputs": [],
   "source": [
    "def fixDeliquency(df):\n",
    "    df['delinq_2yrs'] = df['delinq_2yrs'].astype(int, errors='ignore')\n",
    "    df['mths_since_last_delinq'] = df['mths_since_last_delinq'].astype(int, errors='ignore')\n",
    "    df['deliquency'] = df.apply(lambda r: r['delinq_2yrs'] and r['mths_since_last_delinq'], axis = 1)\n",
    "    return df"
   ]
  },
  {
   "cell_type": "code",
   "execution_count": 279,
   "metadata": {},
   "outputs": [],
   "source": [
    "# x = tdf['delinq_2yrs'].apply(lambda x: bool(x or 1))\n",
    "tmp_df['new'] = pd.to_numeric(tmp_df['delinq_2yrs'], downcast='integer',errors= 'coerce')\n",
    "#x = x.astype('float', errors='ignore')"
   ]
  },
  {
   "cell_type": "code",
   "execution_count": 316,
   "metadata": {},
   "outputs": [
    {
     "data": {
      "text/plain": [
       "(8277, 68)"
      ]
     },
     "execution_count": 316,
     "metadata": {},
     "output_type": "execute_result"
    }
   ],
   "source": [
    "full_df.shape"
   ]
  },
  {
   "cell_type": "code",
   "execution_count": 335,
   "metadata": {},
   "outputs": [],
   "source": [
    "tdf = full_df\n",
    "x = tdf.apply(pd.to_numeric, errors='ignore')"
   ]
  },
  {
   "cell_type": "code",
   "execution_count": 336,
   "metadata": {},
   "outputs": [
    {
     "data": {
      "text/plain": [
       "id                             float64\n",
       "member_id                        int64\n",
       "loan_amnt                        int64\n",
       "funded_amnt                      int64\n",
       "funded_amnt_inv                  int64\n",
       "term                            object\n",
       "int_rate                       float64\n",
       "installment                    float64\n",
       "grade                           object\n",
       "sub_grade                       object\n",
       "is_inc_v                        object\n",
       "issue_d                         object\n",
       "loan_status                     object\n",
       "pymnt_plan                      object\n",
       "url                             object\n",
       "desc                            object\n",
       "purpose                         object\n",
       "title                           object\n",
       "revol_bal                        int64\n",
       "revol_util                     float64\n",
       "initial_list_status             object\n",
       "out_prncp                      float64\n",
       "out_prncp_inv                  float64\n",
       "total_pymnt                    float64\n",
       "total_pymnt_inv                float64\n",
       "total_rec_prncp                float64\n",
       "total_rec_int                  float64\n",
       "total_rec_late_fee             float64\n",
       "recoveries                     float64\n",
       "collection_recovery_fee        float64\n",
       "                                ...   \n",
       "inactive_loans                   int64\n",
       "bad_loans                        int64\n",
       "emp_length_num                   int64\n",
       "grade_num                        int64\n",
       "sub_grade_num                  float64\n",
       "delinq_2yrs_zero               float64\n",
       "pub_rec_zero                   float64\n",
       "collections_12_mths_zero       float64\n",
       "short_emp                        int64\n",
       "payment_inc_ratio              float64\n",
       "final_d                         object\n",
       "last_delinq_none                 int64\n",
       "last_record_none                 int64\n",
       "last_major_derog_none            int64\n",
       "emp_title                       object\n",
       "emp_length                      object\n",
       "home_ownership                  object\n",
       "annual_inc                     float64\n",
       "zip_code                        object\n",
       "addr_state                      object\n",
       "dti                            float64\n",
       "delinq_2yrs                    float64\n",
       "earliest_cr_line                object\n",
       "inq_last_6mths                 float64\n",
       "mths_since_last_delinq         float64\n",
       "mths_since_last_record         float64\n",
       "open_acc                       float64\n",
       "pub_rec                        float64\n",
       "total_acc                      float64\n",
       "mths_since_last_major_derog    float64\n",
       "Length: 68, dtype: object"
      ]
     },
     "execution_count": 336,
     "metadata": {},
     "output_type": "execute_result"
    }
   ],
   "source": [
    "x.dtypes"
   ]
  },
  {
   "cell_type": "code",
   "execution_count": 322,
   "metadata": {},
   "outputs": [
    {
     "ename": "AttributeError",
     "evalue": "'NoneType' object has no attribute 'iloc'",
     "output_type": "error",
     "traceback": [
      "\u001b[0;31m---------------------------------------------------------------------------\u001b[0m",
      "\u001b[0;31mAttributeError\u001b[0m                            Traceback (most recent call last)",
      "\u001b[0;32m<ipython-input-322-89ebdcb59bab>\u001b[0m in \u001b[0;36m<module>\u001b[0;34m()\u001b[0m\n\u001b[0;32m----> 1\u001b[0;31m \u001b[0mtmp_df\u001b[0m\u001b[0;34m[\u001b[0m\u001b[0;34m'new'\u001b[0m\u001b[0;34m]\u001b[0m \u001b[0;34m=\u001b[0m \u001b[0;34m(\u001b[0m\u001b[0mpd\u001b[0m\u001b[0;34m.\u001b[0m\u001b[0mnotnull\u001b[0m\u001b[0;34m(\u001b[0m\u001b[0mtmp_df\u001b[0m\u001b[0;34m.\u001b[0m\u001b[0miloc\u001b[0m\u001b[0;34m[\u001b[0m\u001b[0;36m53\u001b[0m\u001b[0;34m]\u001b[0m\u001b[0;34m)\u001b[0m\u001b[0;34m)\u001b[0m\u001b[0;34m.\u001b[0m\u001b[0mastype\u001b[0m\u001b[0;34m(\u001b[0m\u001b[0mfloat\u001b[0m\u001b[0;34m)\u001b[0m\u001b[0;34m\u001b[0m\u001b[0m\n\u001b[0m",
      "\u001b[0;31mAttributeError\u001b[0m: 'NoneType' object has no attribute 'iloc'"
     ]
    }
   ],
   "source": [
    "tmp_df['new'] = (pd.notnull(tmp_df.iloc[53])).astype(float)"
   ]
  },
  {
   "cell_type": "code",
   "execution_count": 323,
   "metadata": {},
   "outputs": [
    {
     "ename": "TypeError",
     "evalue": "'NoneType' object has no attribute '__getitem__'",
     "output_type": "error",
     "traceback": [
      "\u001b[0;31m---------------------------------------------------------------------------\u001b[0m",
      "\u001b[0;31mTypeError\u001b[0m                                 Traceback (most recent call last)",
      "\u001b[0;32m<ipython-input-323-d2d91ada4019>\u001b[0m in \u001b[0;36m<module>\u001b[0;34m()\u001b[0m\n\u001b[0;32m----> 1\u001b[0;31m \u001b[0mtmp_df\u001b[0m\u001b[0;34m[\u001b[0m\u001b[0;34m'delinq_2yrs'\u001b[0m\u001b[0;34m]\u001b[0m\u001b[0;34m\u001b[0m\u001b[0m\n\u001b[0m",
      "\u001b[0;31mTypeError\u001b[0m: 'NoneType' object has no attribute '__getitem__'"
     ]
    }
   ],
   "source": [
    "tmp_df['delinq_2yrs']"
   ]
  },
  {
   "cell_type": "code",
   "execution_count": 318,
   "metadata": {},
   "outputs": [
    {
     "data": {
      "text/plain": [
       "59"
      ]
     },
     "execution_count": 318,
     "metadata": {},
     "output_type": "execute_result"
    }
   ],
   "source": [
    "full_df.columns.get_loc('delinq_2yrs')"
   ]
  },
  {
   "cell_type": "code",
   "execution_count": 297,
   "metadata": {},
   "outputs": [
    {
     "data": {
      "text/plain": [
       "pandas.core.series.Series"
      ]
     },
     "execution_count": 297,
     "metadata": {},
     "output_type": "execute_result"
    }
   ],
   "source": [
    "type(df.iloc[:,53])"
   ]
  },
  {
   "cell_type": "code",
   "execution_count": 300,
   "metadata": {},
   "outputs": [
    {
     "data": {
      "text/plain": [
       "2      NaN\n",
       "12     NaN\n",
       "17     NaN\n",
       "20     NaN\n",
       "21     NaN\n",
       "22     NaN\n",
       "27     NaN\n",
       "28     NaN\n",
       "30     NaN\n",
       "31     NaN\n",
       "33     NaN\n",
       "36     NaN\n",
       "37     NaN\n",
       "39     NaN\n",
       "41     NaN\n",
       "42     NaN\n",
       "45     NaN\n",
       "48     NaN\n",
       "50     NaN\n",
       "54     NaN\n",
       "55     NaN\n",
       "57     NaN\n",
       "58     NaN\n",
       "59     NaN\n",
       "60     NaN\n",
       "63     NaN\n",
       "64     NaN\n",
       "65     NaN\n",
       "70     NaN\n",
       "71     NaN\n",
       "        ..\n",
       "8168   NaN\n",
       "8172   NaN\n",
       "8176   NaN\n",
       "8178   NaN\n",
       "8194   NaN\n",
       "8199   NaN\n",
       "8208   NaN\n",
       "8212   NaN\n",
       "8213   NaN\n",
       "8216   NaN\n",
       "8217   NaN\n",
       "8218   NaN\n",
       "8219   NaN\n",
       "8221   NaN\n",
       "8223   NaN\n",
       "8224   NaN\n",
       "8228   NaN\n",
       "8229   NaN\n",
       "8230   NaN\n",
       "8231   NaN\n",
       "8238   NaN\n",
       "8239   NaN\n",
       "8243   NaN\n",
       "8251   NaN\n",
       "8260   NaN\n",
       "8262   NaN\n",
       "8264   NaN\n",
       "8267   NaN\n",
       "8268   NaN\n",
       "8276   NaN\n",
       "Name: new, Length: 3130, dtype: float64"
      ]
     },
     "execution_count": 300,
     "metadata": {},
     "output_type": "execute_result"
    }
   ],
   "source": [
    "df['new']"
   ]
  },
  {
   "cell_type": "code",
   "execution_count": null,
   "metadata": {
    "collapsed": true
   },
   "outputs": [],
   "source": []
  }
 ],
 "metadata": {
  "kernelspec": {
   "display_name": "Python 2",
   "language": "python",
   "name": "python2"
  },
  "language_info": {
   "codemirror_mode": {
    "name": "ipython",
    "version": 2
   },
   "file_extension": ".py",
   "mimetype": "text/x-python",
   "name": "python",
   "nbconvert_exporter": "python",
   "pygments_lexer": "ipython2",
   "version": "2.7.14"
  }
 },
 "nbformat": 4,
 "nbformat_minor": 2
}
