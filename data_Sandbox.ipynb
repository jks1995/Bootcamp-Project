{
 "cells": [
  {
   "cell_type": "code",
   "execution_count": 99,
   "metadata": {},
   "outputs": [
    {
     "data": {
      "text/plain": [
       "['Unnamed: 0',\n",
       " 'member_id',\n",
       " 'loan_amnt',\n",
       " 'funded_amnt',\n",
       " 'funded_amnt_inv',\n",
       " 'term',\n",
       " 'int_rate',\n",
       " 'installment',\n",
       " 'grade',\n",
       " 'sub_grade',\n",
       " 'is_inc_v',\n",
       " 'issue_d',\n",
       " 'pymnt_plan',\n",
       " 'purpose',\n",
       " 'initial_list_status',\n",
       " 'out_prncp',\n",
       " 'out_prncp_inv',\n",
       " 'total_pymnt',\n",
       " 'total_pymnt_inv',\n",
       " 'total_rec_prncp',\n",
       " 'total_rec_int',\n",
       " 'total_rec_late_fee',\n",
       " 'recoveries',\n",
       " 'collection_recovery_fee',\n",
       " 'last_pymnt_d',\n",
       " 'last_pymnt_amnt',\n",
       " 'next_pymnt_d',\n",
       " 'last_credit_pull_d',\n",
       " 'collections_12_mths_ex_med',\n",
       " 'not_compliant',\n",
       " 'status',\n",
       " 'inactive_loans',\n",
       " 'bad_loans',\n",
       " 'emp_length_num',\n",
       " 'pub_rec_zero',\n",
       " 'short_emp',\n",
       " 'payment_inc_ratio',\n",
       " 'final_d',\n",
       " 'last_record_none',\n",
       " 'last_major_derog_none',\n",
       " 'home_ownership',\n",
       " 'annual_inc',\n",
       " 'addr_state',\n",
       " 'dti',\n",
       " 'earliest_cr_line',\n",
       " 'inq_last_6mths',\n",
       " 'mths_since_last_delinq',\n",
       " 'open_acc',\n",
       " 'pub_rec',\n",
       " 'total_acc',\n",
       " 'inc_v_binary',\n",
       " 'deliquency',\n",
       " 'status_binary',\n",
       " 'return',\n",
       " 'profit']"
      ]
     },
     "execution_count": 99,
     "metadata": {},
     "output_type": "execute_result"
    }
   ],
   "source": [
    "import pandas as pd\n",
    "import numpy as np\n",
    "import csv\n",
    "from datetime import datetime\n",
    "\n",
    "df = pd.read_csv(\"full_clean_raw.csv\")\n",
    "\n",
    "df['return'] = df['total_pymnt']/df['funded_amnt'] #% return for each loan\n",
    "df['profit'] = df['total_pymnt'] - df['funded_amnt'] #calculate profit per loan\n",
    "\n",
    "list(df.columns.values)"
   ]
  },
  {
   "cell_type": "code",
   "execution_count": null,
   "metadata": {},
   "outputs": [],
   "source": [
    "#correlations\n",
    "df.corr() #correlation matrix"
   ]
  },
  {
   "cell_type": "code",
   "execution_count": null,
   "metadata": {},
   "outputs": [],
   "source": [
    "#return % by loan status\n",
    "pd.pivot_table(df, index=\"status\", values=\"return\") \n",
    "df_pre_agg = df.groupby('status').agg({'total_pymnt' : 'sum', 'funded_amnt' : 'sum'})\n",
    "df_pre_agg['return'] = df_pre_agg['total_pymnt']/df_pre_agg['funded_amnt']\n",
    "df_pre_agg['return']"
   ]
  },
  {
   "cell_type": "code",
   "execution_count": null,
   "metadata": {},
   "outputs": [],
   "source": [
    "#return by employement status\n",
    "pd.pivot_table(df, index=\"emp_length_num\", values=\"return\") #not really anything interesting"
   ]
  },
  {
   "cell_type": "code",
   "execution_count": null,
   "metadata": {
    "collapsed": true
   },
   "outputs": [],
   "source": [
    "#return by grades\n",
    "pd.pivot_table(df, index=\"sub_grade\", values=\"return\", aggfunc=len)"
   ]
  },
  {
   "cell_type": "code",
   "execution_count": null,
   "metadata": {
    "collapsed": true
   },
   "outputs": [],
   "source": [
    "#return positive in each category\n",
    "df['pos_return'] = df['return'].apply(lambda x: 1 if x>=1 else 0)\n",
    "pd.pivot_table(df, index=\"sub_grade\", values=\"pos_return\")"
   ]
  },
  {
   "cell_type": "code",
   "execution_count": null,
   "metadata": {
    "collapsed": true
   },
   "outputs": [],
   "source": [
    "#profit by status\n",
    "df_prof = df.groupby('status').agg({'profit' : 'sum', 'funded_amnt' : 'sum'})\n",
    "df_prof['margin'] = df_prof['profit']/df_prof['funded_amnt']\n",
    "sum(df_prof['profit'])/sum(df_prof['funded_amnt']) #total profit margin"
   ]
  },
  {
   "cell_type": "code",
   "execution_count": null,
   "metadata": {
    "collapsed": true
   },
   "outputs": [],
   "source": [
    "#profit by year\n",
    "df['year'] = df['issue_d'].apply(lambda x: x[:4])\n",
    "df_y = df.groupby('year').agg({'profit' : 'sum', 'funded_amnt' : 'sum', 'member_id': 'count'})\n",
    "df_y['margin'] = df_y['profit']/df_y['funded_amnt']\n",
    "df_y #profit margin is between -4% and 10% before 2012, but is -33% and -74% in 2013 and 2014 respectively\n",
    "\n",
    "\n",
    "analysis = pd.pivot_table(df, values='member_id', index='year', columns='status', aggfunc=len, fill_value=0)\n",
    "for col in analysis.columns:\n",
    "    analysis[col] = (analysis[col]/df_y['member_id'] * 100).round()\n",
    "analysis"
   ]
  }
 ],
 "metadata": {
  "kernelspec": {
   "display_name": "Python 2",
   "language": "python",
   "name": "python2"
  },
  "language_info": {
   "codemirror_mode": {
    "name": "ipython",
    "version": 2
   },
   "file_extension": ".py",
   "mimetype": "text/x-python",
   "name": "python",
   "nbconvert_exporter": "python",
   "pygments_lexer": "ipython2",
   "version": "2.7.14"
  }
 },
 "nbformat": 4,
 "nbformat_minor": 2
}
