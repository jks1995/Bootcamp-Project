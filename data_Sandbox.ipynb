{
 "cells": [
  {
   "cell_type": "code",
   "execution_count": null,
   "metadata": {},
   "outputs": [],
   "source": [
    "import pandas as pd\n",
    "import numpy as np\n",
    "import csv\n",
    "from datetime import datetime\n",
    "\n",
    "df = pd.read_csv(\"full_clean_raw.csv\")\n",
    "\n",
    "df['return'] = df['total_pymnt']/df['funded_amnt'] #% return for each loan\n",
    "df['profit'] = df['total_pymnt'] - df['funded_amnt'] #calculate profit per loan\n",
    "\n",
    "#Adding regions\n",
    "regions = {\n",
    "    'NE': ['ME', 'NA', 'VT', 'MA', 'RI', 'CT', 'NJ', 'PA', 'MD', 'VA', 'WV', 'KY', 'OH', 'IN', 'NY'],\n",
    "    'SE': ['NC', 'SC', 'GA', 'FL', 'AL', 'TN', 'MS', 'AR', 'LA', 'OK', 'TX'],\n",
    "    'NC': ['ND', 'SD', 'NE', 'KS', 'MO', 'IA', 'MN', 'WI', 'MI', 'IL'],\n",
    "    'NW': ['WA', 'OR', 'ID', 'MT', 'WY', 'AK'],\n",
    "    'SW': ['CA', 'NV', 'UT', 'CO', 'NM', 'AZ', 'HI']\n",
    "}\n",
    "regionsFix = {}\n",
    "for key in regions.keys():\n",
    "    for state in regions[key]:\n",
    "        regionsFix[state] = key        \n",
    "df['region'] = df['addr_state'].map(regionsFix)\n",
    "\n",
    "\"\"\"\n",
    "Code to remove all loans that are not closed:\n",
    "df = df.drop(df[df['status'] == \"current\"].index) \n",
    "df = df.drop(df[df['status'] == \"in grace period\"].index) \n",
    "df = df.drop(df[df['status'] == \"late (16-30 days)\"].index) \n",
    "df = df.drop(df[df['status'] == \"late (31-120 days)\"].index)\n",
    "df = df.drop(df[df['status'] == \"default\"].index)\n",
    "\"\"\"\n",
    "\n",
    "#df.to_csv('full_data_Vardy.csv') #write to csv\n",
    "#list(df.columns.values) #see what columns we have"
   ]
  },
  {
   "cell_type": "code",
   "execution_count": null,
   "metadata": {
    "collapsed": true
   },
   "outputs": [],
   "source": [
    "#correlations\n",
    "df.corr() #correlation matrix"
   ]
  },
  {
   "cell_type": "code",
   "execution_count": null,
   "metadata": {
    "scrolled": true
   },
   "outputs": [],
   "source": [
    "#return % by loan status\n",
    "pd.pivot_table(df, index=\"status\", values=\"return\") \n",
    "df_pre_agg = df.groupby('status').agg({'total_pymnt' : 'sum', 'funded_amnt' : 'sum'})\n",
    "df_pre_agg['return'] = df_pre_agg['total_pymnt']/df_pre_agg['funded_amnt']\n",
    "df_pre_agg['return']"
   ]
  },
  {
   "cell_type": "code",
   "execution_count": null,
   "metadata": {},
   "outputs": [],
   "source": [
    "#remove open loans\n",
    "df = df.drop(df[df['status'] == \"current\"].index) \n",
    "df = df.drop(df[df['status'] == \"in grace period\"].index) \n",
    "df = df.drop(df[df['status'] == \"late (16-30 days)\"].index) \n",
    "df = df.drop(df[df['status'] == \"late (31-120 days)\"].index)\n",
    "df = df.drop(df[df['status'] == \"default\"].index)\n",
    "\n",
    "#return by employement status\n",
    "pd.pivot_table(df, index=\"emp_length_num\", values=\"return\") #"
   ]
  },
  {
   "cell_type": "code",
   "execution_count": null,
   "metadata": {},
   "outputs": [],
   "source": [
    "#return by grades\n",
    "pd.pivot_table(df, index=\"sub_grade\", values=\"return\", aggfunc=len) #need to convert to percentage"
   ]
  },
  {
   "cell_type": "code",
   "execution_count": null,
   "metadata": {},
   "outputs": [],
   "source": [
    "#return % of positive return in each category\n",
    "df['pos_return'] = df['return'].apply(lambda x: 1 if x>=1 else 0)\n",
    "pd.pivot_table(df, index=\"sub_grade\", values=\"pos_return\")\n",
    "#all sub-grades between roughly 20-30%\n",
    "\n",
    "pd.pivot_table(df, index=\"grade\", values=\"pos_return\")\n",
    "##all grades between roughly 20-30%"
   ]
  },
  {
   "cell_type": "code",
   "execution_count": null,
   "metadata": {},
   "outputs": [],
   "source": [
    "#remove all loans that are not closed\n",
    "df = df.drop(df[df['status'] == \"current\"].index) \n",
    "df = df.drop(df[df['status'] == \"in grace period\"].index) \n",
    "df = df.drop(df[df['status'] == \"late (16-30 days)\"].index) \n",
    "df = df.drop(df[df['status'] == \"late (31-120 days)\"].index)\n",
    "df = df.drop(df[df['status'] == \"default\"].index)\n",
    "\n",
    "#profit by status\n",
    "df_prof = df.groupby('status').agg({'profit' : 'sum', 'funded_amnt' : 'sum'})\n",
    "df_prof['margin'] = df_prof['profit']/df_prof['funded_amnt']\n",
    "sum(df_prof['profit'])/sum(df_prof['funded_amnt']) #total profit margin is -49.2%, -1.6% if discounting all loans\n",
    "\n",
    "#YoY breakdown\n",
    "#df_yoy_prof = df.groupby('year').agg({'profit' : 'sum', 'funded_amnt' : 'sum'})\n",
    "#df_yoy_prof['gross_profit'] = (df_yoy_prof['profit']/df_yoy_prof['funded_amnt'] * 100).round(2)\n",
    "#df_yoy_prof['gross_profit']"
   ]
  },
  {
   "cell_type": "code",
   "execution_count": null,
   "metadata": {},
   "outputs": [],
   "source": [
    "#profit by year\n",
    "df = df.drop(df[df['status'] == \"current\"].index) #remove records where status = \"current\"\n",
    "df['year'] = df['issue_d'].apply(lambda x: x[:4])\n",
    "df_y = df.groupby('year').agg({'profit' : 'sum', 'funded_amnt' : 'sum', 'member_id': 'count'})\n",
    "df_y['margin'] = df_y['profit']/df_y['funded_amnt']\n",
    "df_y #profit margin is between -4% and 10% before 2012, but is -33% and -74% in 2013 and 2014 respectively\n",
    "\n",
    "analysis = pd.pivot_table(df, values='member_id', index='year', columns='status', aggfunc=len, fill_value=0)\n",
    "for col in analysis.columns:\n",
    "    analysis[col] = (analysis[col]/df_y['member_id'] * 100).round(2)\n",
    "\n",
    "analysis #there is an increase in late payment and grace period status loans in 2012-2014"
   ]
  },
  {
   "cell_type": "code",
   "execution_count": null,
   "metadata": {},
   "outputs": [],
   "source": [
    "#profit by region\n",
    "df = df.drop(df[df['status'] == \"current\"].index) #remove records where status = \"current\"\n",
    "df['year'] = df['issue_d'].apply(lambda x: x[:4])\n",
    "analysis = pd.pivot_table(df, values='profit', index='year', columns='region', aggfunc=np.sum)\n",
    "diviz = pd.pivot_table(df, values='funded_amnt', index='year', columns='region', aggfunc=np.sum)\n",
    "(analysis.divide(diviz) * 100).round(2) #NW doing better in the last 3 years\n",
    "\n",
    "#a = pd.pivot_table(df, values='profit', index='region', aggfunc=np.sum)\n",
    "#b = pd.pivot_table(df, values='funded_amnt', index='region', aggfunc=np.sum)\n",
    "#a['profit'].divide(b['funded_amnt']) #historically NW and SW perform better"
   ]
  },
  {
   "cell_type": "code",
   "execution_count": null,
   "metadata": {},
   "outputs": [],
   "source": []
  },
  {
   "cell_type": "code",
   "execution_count": null,
   "metadata": {
    "collapsed": true
   },
   "outputs": [],
   "source": []
  }
 ],
 "metadata": {
  "kernelspec": {
   "display_name": "Python 2",
   "language": "python",
   "name": "python2"
  },
  "language_info": {
   "codemirror_mode": {
    "name": "ipython",
    "version": 2
   },
   "file_extension": ".py",
   "mimetype": "text/x-python",
   "name": "python",
   "nbconvert_exporter": "python",
   "pygments_lexer": "ipython2",
   "version": "2.7.14"
  }
 },
 "nbformat": 4,
 "nbformat_minor": 2
}
