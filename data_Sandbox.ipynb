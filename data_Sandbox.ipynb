{
 "cells": [
  {
   "cell_type": "code",
   "execution_count": 109,
   "metadata": {},
   "outputs": [
    {
     "data": {
      "text/plain": [
       "['Unnamed: 0',\n",
       " 'member_id',\n",
       " 'loan_amnt',\n",
       " 'funded_amnt',\n",
       " 'funded_amnt_inv',\n",
       " 'term',\n",
       " 'int_rate',\n",
       " 'installment',\n",
       " 'grade',\n",
       " 'sub_grade',\n",
       " 'is_inc_v',\n",
       " 'issue_d',\n",
       " 'pymnt_plan',\n",
       " 'purpose',\n",
       " 'initial_list_status',\n",
       " 'out_prncp',\n",
       " 'out_prncp_inv',\n",
       " 'total_pymnt',\n",
       " 'total_pymnt_inv',\n",
       " 'total_rec_prncp',\n",
       " 'total_rec_int',\n",
       " 'total_rec_late_fee',\n",
       " 'recoveries',\n",
       " 'collection_recovery_fee',\n",
       " 'last_pymnt_d',\n",
       " 'last_pymnt_amnt',\n",
       " 'next_pymnt_d',\n",
       " 'last_credit_pull_d',\n",
       " 'collections_12_mths_ex_med',\n",
       " 'not_compliant',\n",
       " 'status',\n",
       " 'inactive_loans',\n",
       " 'bad_loans',\n",
       " 'emp_length_num',\n",
       " 'pub_rec_zero',\n",
       " 'short_emp',\n",
       " 'payment_inc_ratio',\n",
       " 'final_d',\n",
       " 'last_record_none',\n",
       " 'last_major_derog_none',\n",
       " 'home_ownership',\n",
       " 'annual_inc',\n",
       " 'addr_state',\n",
       " 'dti',\n",
       " 'earliest_cr_line',\n",
       " 'inq_last_6mths',\n",
       " 'mths_since_last_delinq',\n",
       " 'open_acc',\n",
       " 'pub_rec',\n",
       " 'total_acc',\n",
       " 'inc_v_binary',\n",
       " 'deliquency',\n",
       " 'status_binary',\n",
       " 'return',\n",
       " 'profit']"
      ]
     },
     "execution_count": 109,
     "metadata": {},
     "output_type": "execute_result"
    }
   ],
   "source": [
    "import pandas as pd\n",
    "import numpy as np\n",
    "import csv\n",
    "from datetime import datetime\n",
    "\n",
    "df = pd.read_csv(\"full_clean_raw.csv\")\n",
    "\n",
    "df['return'] = df['total_pymnt']/df['funded_amnt'] #% return for each loan\n",
    "df['profit'] = df['total_pymnt'] - df['funded_amnt'] #calculate profit per loan\n",
    "\n",
    "list(df.columns.values)"
   ]
  },
  {
   "cell_type": "code",
   "execution_count": null,
   "metadata": {},
   "outputs": [],
   "source": [
    "#correlations\n",
    "df.corr() #correlation matrix"
   ]
  },
  {
   "cell_type": "code",
   "execution_count": null,
   "metadata": {},
   "outputs": [],
   "source": [
    "#return % by loan status\n",
    "pd.pivot_table(df, index=\"status\", values=\"return\") \n",
    "df_pre_agg = df.groupby('status').agg({'total_pymnt' : 'sum', 'funded_amnt' : 'sum'})\n",
    "df_pre_agg['return'] = df_pre_agg['total_pymnt']/df_pre_agg['funded_amnt']\n",
    "df_pre_agg['return']"
   ]
  },
  {
   "cell_type": "code",
   "execution_count": null,
   "metadata": {},
   "outputs": [],
   "source": [
    "#return by employement status\n",
    "pd.pivot_table(df, index=\"emp_length_num\", values=\"return\") #not really anything interesting"
   ]
  },
  {
   "cell_type": "code",
   "execution_count": null,
   "metadata": {
    "collapsed": true
   },
   "outputs": [],
   "source": [
    "#return by grades\n",
    "pd.pivot_table(df, index=\"sub_grade\", values=\"return\", aggfunc=len)"
   ]
  },
  {
   "cell_type": "code",
   "execution_count": null,
   "metadata": {
    "collapsed": true
   },
   "outputs": [],
   "source": [
    "#return positive in each category\n",
    "df['pos_return'] = df['return'].apply(lambda x: 1 if x>=1 else 0)\n",
    "pd.pivot_table(df, index=\"sub_grade\", values=\"pos_return\")"
   ]
  },
  {
   "cell_type": "code",
   "execution_count": null,
   "metadata": {
    "collapsed": true
   },
   "outputs": [],
   "source": [
    "#profit by status\n",
    "df_prof = df.groupby('status').agg({'profit' : 'sum', 'funded_amnt' : 'sum'})\n",
    "df_prof['margin'] = df_prof['profit']/df_prof['funded_amnt']\n",
    "sum(df_prof['profit'])/sum(df_prof['funded_amnt']) #total profit margin"
   ]
  },
  {
   "cell_type": "code",
   "execution_count": 113,
   "metadata": {},
   "outputs": [
    {
     "data": {
      "text/html": [
       "<div>\n",
       "<style>\n",
       "    .dataframe thead tr:only-child th {\n",
       "        text-align: right;\n",
       "    }\n",
       "\n",
       "    .dataframe thead th {\n",
       "        text-align: left;\n",
       "    }\n",
       "\n",
       "    .dataframe tbody tr th {\n",
       "        vertical-align: top;\n",
       "    }\n",
       "</style>\n",
       "<table border=\"1\" class=\"dataframe\">\n",
       "  <thead>\n",
       "    <tr style=\"text-align: right;\">\n",
       "      <th></th>\n",
       "      <th>profit</th>\n",
       "      <th>funded_amnt</th>\n",
       "      <th>member_id</th>\n",
       "      <th>margin</th>\n",
       "    </tr>\n",
       "    <tr>\n",
       "      <th>year</th>\n",
       "      <th></th>\n",
       "      <th></th>\n",
       "      <th></th>\n",
       "      <th></th>\n",
       "    </tr>\n",
       "  </thead>\n",
       "  <tbody>\n",
       "    <tr>\n",
       "      <th>2007</th>\n",
       "      <td>-100765.77</td>\n",
       "      <td>4584775</td>\n",
       "      <td>565</td>\n",
       "      <td>-0.021978</td>\n",
       "    </tr>\n",
       "    <tr>\n",
       "      <th>2008</th>\n",
       "      <td>342360.90</td>\n",
       "      <td>19975025</td>\n",
       "      <td>2393</td>\n",
       "      <td>0.017139</td>\n",
       "    </tr>\n",
       "    <tr>\n",
       "      <th>2009</th>\n",
       "      <td>4043823.07</td>\n",
       "      <td>51814750</td>\n",
       "      <td>5281</td>\n",
       "      <td>0.078044</td>\n",
       "    </tr>\n",
       "    <tr>\n",
       "      <th>2010</th>\n",
       "      <td>9680297.87</td>\n",
       "      <td>114869025</td>\n",
       "      <td>11491</td>\n",
       "      <td>0.084272</td>\n",
       "    </tr>\n",
       "    <tr>\n",
       "      <th>2011</th>\n",
       "      <td>10655706.80</td>\n",
       "      <td>209043600</td>\n",
       "      <td>18681</td>\n",
       "      <td>0.050974</td>\n",
       "    </tr>\n",
       "    <tr>\n",
       "      <th>2012</th>\n",
       "      <td>-6932510.36</td>\n",
       "      <td>398316950</td>\n",
       "      <td>29716</td>\n",
       "      <td>-0.017405</td>\n",
       "    </tr>\n",
       "    <tr>\n",
       "      <th>2013</th>\n",
       "      <td>-61253382.43</td>\n",
       "      <td>608762800</td>\n",
       "      <td>42556</td>\n",
       "      <td>-0.100619</td>\n",
       "    </tr>\n",
       "    <tr>\n",
       "      <th>2014</th>\n",
       "      <td>-73948340.57</td>\n",
       "      <td>310926800</td>\n",
       "      <td>22094</td>\n",
       "      <td>-0.237832</td>\n",
       "    </tr>\n",
       "  </tbody>\n",
       "</table>\n",
       "</div>"
      ],
      "text/plain": [
       "           profit  funded_amnt  member_id    margin\n",
       "year                                               \n",
       "2007   -100765.77      4584775        565 -0.021978\n",
       "2008    342360.90     19975025       2393  0.017139\n",
       "2009   4043823.07     51814750       5281  0.078044\n",
       "2010   9680297.87    114869025      11491  0.084272\n",
       "2011  10655706.80    209043600      18681  0.050974\n",
       "2012  -6932510.36    398316950      29716 -0.017405\n",
       "2013 -61253382.43    608762800      42556 -0.100619\n",
       "2014 -73948340.57    310926800      22094 -0.237832"
      ]
     },
     "execution_count": 113,
     "metadata": {},
     "output_type": "execute_result"
    }
   ],
   "source": [
    "#profit by year\n",
    "df = df.drop(df[df['status'] == \"current\"].index) #remove records where status = \"current\"\n",
    "df['year'] = df['issue_d'].apply(lambda x: x[:4])\n",
    "df_y = df.groupby('year').agg({'profit' : 'sum', 'funded_amnt' : 'sum', 'member_id': 'count'})\n",
    "df_y['margin'] = df_y['profit']/df_y['funded_amnt']\n",
    "df_y #profit margin is between -4% and 10% before 2012, but is -33% and -74% in 2013 and 2014 respectively\n",
    "\n",
    "analysis = pd.pivot_table(df, values='member_id', index='year', columns='status', aggfunc=len, fill_value=0)\n",
    "for col in analysis.columns:\n",
    "    analysis[col] = (analysis[col]/df_y['member_id'] * 100).round(2)\n",
    "\n",
    "df_y"
   ]
  },
  {
   "cell_type": "code",
   "execution_count": null,
   "metadata": {
    "collapsed": true
   },
   "outputs": [],
   "source": []
  }
 ],
 "metadata": {
  "kernelspec": {
   "display_name": "Python 2",
   "language": "python",
   "name": "python2"
  },
  "language_info": {
   "codemirror_mode": {
    "name": "ipython",
    "version": 2
   },
   "file_extension": ".py",
   "mimetype": "text/x-python",
   "name": "python",
   "nbconvert_exporter": "python",
   "pygments_lexer": "ipython2",
   "version": "2.7.14"
  }
 },
 "nbformat": 4,
 "nbformat_minor": 2
}
