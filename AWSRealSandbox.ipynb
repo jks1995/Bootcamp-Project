{
 "cells": [
  {
   "cell_type": "code",
   "execution_count": 40,
   "metadata": {},
   "outputs": [],
   "source": [
    "import boto3\n",
    "import json\n",
    "s3 = boto3.client('s3')\n",
    "bucket1 = 'bootcampjanuary2018-1a'\n",
    "bucket2 = 'bootcampaugust2017-1b'"
   ]
  },
  {
   "cell_type": "code",
   "execution_count": 14,
   "metadata": {},
   "outputs": [
    {
     "data": {
      "text/plain": [
       "{'ResponseMetadata': {'HTTPHeaders': {'date': 'Mon, 12 Feb 2018 14:52:28 GMT',\n",
       "   'server': 'AmazonS3',\n",
       "   'x-amz-id-2': 'yT96RmNYh5CWU9p3znwFNDegc6VmBxkASYHkLfWervr67gtnYCq5Thu/56accdKY5qGOecrQKrQ=',\n",
       "   'x-amz-request-id': '9FFE8CA2825FF701'},\n",
       "  'HTTPStatusCode': 204,\n",
       "  'HostId': 'yT96RmNYh5CWU9p3znwFNDegc6VmBxkASYHkLfWervr67gtnYCq5Thu/56accdKY5qGOecrQKrQ=',\n",
       "  'RequestId': '9FFE8CA2825FF701',\n",
       "  'RetryAttempts': 0}}"
      ]
     },
     "execution_count": 14,
     "metadata": {},
     "output_type": "execute_result"
    }
   ],
   "source": [
    "# delete a file\n",
    "s3.delete_object(Bucket=bucket1, Key='note.txt')"
   ]
  },
  {
   "cell_type": "code",
   "execution_count": 24,
   "metadata": {},
   "outputs": [],
   "source": [
    "# upload \n",
    "\n",
    "s3.upload_file('2007_clean.csv', bucket1, '2007_clean.csv')"
   ]
  },
  {
   "cell_type": "code",
   "execution_count": 84,
   "metadata": {},
   "outputs": [],
   "source": [
    "# download\n",
    "obj = s3.get_object(Bucket=bucket1, Key='table_data.json')\n",
    "file_str = json.loads(obj['Body'].read().decode(\"utf-8\"))"
   ]
  },
  {
   "cell_type": "code",
   "execution_count": 86,
   "metadata": {},
   "outputs": [
    {
     "data": {
      "text/plain": [
       "{'2007_Data': 603,\n",
       " '2008_Data': 2393,\n",
       " '2009_Data': 5281,\n",
       " '2010_Data': 12537,\n",
       " '2011_Data': 21721,\n",
       " '2012_Data': 53367,\n",
       " '2013_Data': 134756,\n",
       " '2014_Data': 235629,\n",
       " 'Member_Information': 466287}"
      ]
     },
     "execution_count": 86,
     "metadata": {},
     "output_type": "execute_result"
    }
   ],
   "source": [
    "file_str"
   ]
  },
  {
   "cell_type": "code",
   "execution_count": 36,
   "metadata": {},
   "outputs": [],
   "source": [
    "def moveToDeprecated(table_name):\n",
    "    deprecated_path = 'deprecated/{}_{}.csv'.format(table_name, datetime.now().strftime('%Y_%m_%d'))\n",
    "    current_path = '{}.csv'.format(table_name)\n",
    "    try:\n",
    "        s3.copy_object(Bucket=bucket1, CopySource=bucket1+'/'+current_path, Key=deprecated_path)\n",
    "        s3.delete_object(Bucket=bucket1, Key=current_path)\n",
    "    except Exception as e:\n",
    "        print(e)"
   ]
  },
  {
   "cell_type": "code",
   "execution_count": 37,
   "metadata": {},
   "outputs": [
    {
     "name": "stdout",
     "output_type": "stream",
     "text": [
      "An error occurred (NoSuchKey) when calling the CopyObject operation: The specified key does not exist.\n"
     ]
    }
   ],
   "source": [
    "from datetime import datetime\n",
    "moveToDeprecated('2007_clean')"
   ]
  },
  {
   "cell_type": "code",
   "execution_count": 48,
   "metadata": {
    "collapsed": true
   },
   "outputs": [],
   "source": [
    "from io import BytesIO\n",
    "import pandas as pd\n",
    "def s3ToDataFrame(table_name):\n",
    "    obj = s3.get_object(Bucket=bucket1, Key='data/{}.csv'.format(table_name))\n",
    "    io = BytesIO(obj['Body'].read())\n",
    "    return pd.read_csv(io)"
   ]
  },
  {
   "cell_type": "code",
   "execution_count": 69,
   "metadata": {},
   "outputs": [],
   "source": [
    "df = s3ToDataFrame('2007_Data') ###check row count mis match"
   ]
  },
  {
   "cell_type": "code",
   "execution_count": 68,
   "metadata": {},
   "outputs": [
    {
     "data": {
      "text/plain": [
       "array([1., 0.])"
      ]
     },
     "execution_count": 68,
     "metadata": {},
     "output_type": "execute_result"
    }
   ],
   "source": [
    "s3ToDataFrame('2007_Data')['pub_rec_zero'].unique()"
   ]
  },
  {
   "cell_type": "code",
   "execution_count": 70,
   "metadata": {},
   "outputs": [
    {
     "data": {
      "text/html": [
       "<div>\n",
       "<style scoped>\n",
       "    .dataframe tbody tr th:only-of-type {\n",
       "        vertical-align: middle;\n",
       "    }\n",
       "\n",
       "    .dataframe tbody tr th {\n",
       "        vertical-align: top;\n",
       "    }\n",
       "\n",
       "    .dataframe thead th {\n",
       "        text-align: right;\n",
       "    }\n",
       "</style>\n",
       "<table border=\"1\" class=\"dataframe\">\n",
       "  <thead>\n",
       "    <tr style=\"text-align: right;\">\n",
       "      <th></th>\n",
       "      <th>Unnamed: 0</th>\n",
       "      <th>member_id</th>\n",
       "      <th>loan_amnt</th>\n",
       "      <th>funded_amnt</th>\n",
       "      <th>funded_amnt_inv</th>\n",
       "      <th>term</th>\n",
       "      <th>int_rate</th>\n",
       "      <th>installment</th>\n",
       "      <th>grade</th>\n",
       "      <th>sub_grade</th>\n",
       "      <th>...</th>\n",
       "      <th>inq_last_6mths</th>\n",
       "      <th>mths_since_last_delinq</th>\n",
       "      <th>open_acc</th>\n",
       "      <th>pub_rec</th>\n",
       "      <th>total_acc</th>\n",
       "      <th>deliquency</th>\n",
       "      <th>status_binary</th>\n",
       "      <th>region</th>\n",
       "      <th>return</th>\n",
       "      <th>profit</th>\n",
       "    </tr>\n",
       "  </thead>\n",
       "  <tbody>\n",
       "    <tr>\n",
       "      <th>0</th>\n",
       "      <td>5</td>\n",
       "      <td>70694</td>\n",
       "      <td>5000</td>\n",
       "      <td>5000</td>\n",
       "      <td>350</td>\n",
       "      <td>36</td>\n",
       "      <td>11.54</td>\n",
       "      <td>164.98</td>\n",
       "      <td>C</td>\n",
       "      <td>C5</td>\n",
       "      <td>...</td>\n",
       "      <td>4.0</td>\n",
       "      <td>NaN</td>\n",
       "      <td>6.0</td>\n",
       "      <td>0.0</td>\n",
       "      <td>13.0</td>\n",
       "      <td>0</td>\n",
       "      <td>1</td>\n",
       "      <td>SE</td>\n",
       "      <td>0.300238</td>\n",
       "      <td>-3498.81</td>\n",
       "    </tr>\n",
       "    <tr>\n",
       "      <th>1</th>\n",
       "      <td>13</td>\n",
       "      <td>76583</td>\n",
       "      <td>5000</td>\n",
       "      <td>5000</td>\n",
       "      <td>1775</td>\n",
       "      <td>36</td>\n",
       "      <td>9.01</td>\n",
       "      <td>159.03</td>\n",
       "      <td>B</td>\n",
       "      <td>B2</td>\n",
       "      <td>...</td>\n",
       "      <td>0.0</td>\n",
       "      <td>5.0</td>\n",
       "      <td>5.0</td>\n",
       "      <td>0.0</td>\n",
       "      <td>7.0</td>\n",
       "      <td>1</td>\n",
       "      <td>0</td>\n",
       "      <td>NE</td>\n",
       "      <td>1.144964</td>\n",
       "      <td>724.82</td>\n",
       "    </tr>\n",
       "    <tr>\n",
       "      <th>2</th>\n",
       "      <td>26</td>\n",
       "      <td>84914</td>\n",
       "      <td>5000</td>\n",
       "      <td>5000</td>\n",
       "      <td>2025</td>\n",
       "      <td>36</td>\n",
       "      <td>7.43</td>\n",
       "      <td>155.38</td>\n",
       "      <td>A</td>\n",
       "      <td>A2</td>\n",
       "      <td>...</td>\n",
       "      <td>1.0</td>\n",
       "      <td>NaN</td>\n",
       "      <td>12.0</td>\n",
       "      <td>0.0</td>\n",
       "      <td>21.0</td>\n",
       "      <td>0</td>\n",
       "      <td>0</td>\n",
       "      <td>NE</td>\n",
       "      <td>1.040088</td>\n",
       "      <td>200.44</td>\n",
       "    </tr>\n",
       "    <tr>\n",
       "      <th>3</th>\n",
       "      <td>31</td>\n",
       "      <td>86999</td>\n",
       "      <td>7500</td>\n",
       "      <td>7500</td>\n",
       "      <td>800</td>\n",
       "      <td>36</td>\n",
       "      <td>13.75</td>\n",
       "      <td>255.43</td>\n",
       "      <td>E</td>\n",
       "      <td>E2</td>\n",
       "      <td>...</td>\n",
       "      <td>0.0</td>\n",
       "      <td>11.0</td>\n",
       "      <td>7.0</td>\n",
       "      <td>0.0</td>\n",
       "      <td>8.0</td>\n",
       "      <td>1</td>\n",
       "      <td>0</td>\n",
       "      <td>NE</td>\n",
       "      <td>1.225997</td>\n",
       "      <td>1694.98</td>\n",
       "    </tr>\n",
       "    <tr>\n",
       "      <th>4</th>\n",
       "      <td>32</td>\n",
       "      <td>88023</td>\n",
       "      <td>4400</td>\n",
       "      <td>4400</td>\n",
       "      <td>1400</td>\n",
       "      <td>36</td>\n",
       "      <td>9.64</td>\n",
       "      <td>141.25</td>\n",
       "      <td>B</td>\n",
       "      <td>B4</td>\n",
       "      <td>...</td>\n",
       "      <td>0.0</td>\n",
       "      <td>0.0</td>\n",
       "      <td>4.0</td>\n",
       "      <td>0.0</td>\n",
       "      <td>5.0</td>\n",
       "      <td>0</td>\n",
       "      <td>0</td>\n",
       "      <td>NE</td>\n",
       "      <td>1.155561</td>\n",
       "      <td>684.47</td>\n",
       "    </tr>\n",
       "  </tbody>\n",
       "</table>\n",
       "<p>5 rows × 55 columns</p>\n",
       "</div>"
      ],
      "text/plain": [
       "   Unnamed: 0  member_id  loan_amnt  funded_amnt  funded_amnt_inv  term  \\\n",
       "0           5      70694       5000         5000              350    36   \n",
       "1          13      76583       5000         5000             1775    36   \n",
       "2          26      84914       5000         5000             2025    36   \n",
       "3          31      86999       7500         7500              800    36   \n",
       "4          32      88023       4400         4400             1400    36   \n",
       "\n",
       "   int_rate  installment grade sub_grade   ...    inq_last_6mths  \\\n",
       "0     11.54       164.98     C        C5   ...               4.0   \n",
       "1      9.01       159.03     B        B2   ...               0.0   \n",
       "2      7.43       155.38     A        A2   ...               1.0   \n",
       "3     13.75       255.43     E        E2   ...               0.0   \n",
       "4      9.64       141.25     B        B4   ...               0.0   \n",
       "\n",
       "  mths_since_last_delinq  open_acc pub_rec  total_acc  deliquency  \\\n",
       "0                    NaN       6.0     0.0       13.0           0   \n",
       "1                    5.0       5.0     0.0        7.0           1   \n",
       "2                    NaN      12.0     0.0       21.0           0   \n",
       "3                   11.0       7.0     0.0        8.0           1   \n",
       "4                    0.0       4.0     0.0        5.0           0   \n",
       "\n",
       "   status_binary  region    return   profit  \n",
       "0              1      SE  0.300238 -3498.81  \n",
       "1              0      NE  1.144964   724.82  \n",
       "2              0      NE  1.040088   200.44  \n",
       "3              0      NE  1.225997  1694.98  \n",
       "4              0      NE  1.155561   684.47  \n",
       "\n",
       "[5 rows x 55 columns]"
      ]
     },
     "execution_count": 70,
     "metadata": {},
     "output_type": "execute_result"
    }
   ],
   "source": [
    "df.head()"
   ]
  },
  {
   "cell_type": "code",
   "execution_count": null,
   "metadata": {
    "collapsed": true
   },
   "outputs": [],
   "source": []
  }
 ],
 "metadata": {
  "kernelspec": {
   "display_name": "Python 3",
   "language": "python",
   "name": "python3"
  },
  "language_info": {
   "codemirror_mode": {
    "name": "ipython",
    "version": 3
   },
   "file_extension": ".py",
   "mimetype": "text/x-python",
   "name": "python",
   "nbconvert_exporter": "python",
   "pygments_lexer": "ipython3",
   "version": "3.6.4"
  }
 },
 "nbformat": 4,
 "nbformat_minor": 2
}
