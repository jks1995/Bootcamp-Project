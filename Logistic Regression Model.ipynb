{
 "cells": [
  {
   "cell_type": "code",
   "execution_count": 1,
   "metadata": {
    "collapsed": true
   },
   "outputs": [],
   "source": [
    "import pandas as pd\n",
    "import numpy as np\n",
    "from sklearn.linear_model import LogisticRegression\n",
    "from sklearn.metrics import confusion_matrix\n",
    "from sklearn.model_selection import train_test_split\n",
    "\n",
    "# Read in Data\n",
    "df = pd.read_csv('cleaned_full_2.csv')\n"
   ]
  },
  {
   "cell_type": "code",
   "execution_count": 3,
   "metadata": {
    "scrolled": false
   },
   "outputs": [
    {
     "ename": "NameError",
     "evalue": "name 'historic_df' is not defined",
     "output_type": "error",
     "traceback": [
      "\u001b[0;31m---------------------------------------------------------------------------\u001b[0m",
      "\u001b[0;31mNameError\u001b[0m                                 Traceback (most recent call last)",
      "\u001b[0;32m<ipython-input-3-def653ead340>\u001b[0m in \u001b[0;36m<module>\u001b[0;34m()\u001b[0m\n\u001b[1;32m      2\u001b[0m \u001b[0;34m\u001b[0m\u001b[0m\n\u001b[1;32m      3\u001b[0m \u001b[0;31m# define response variable\u001b[0m\u001b[0;34m\u001b[0m\u001b[0;34m\u001b[0m\u001b[0m\n\u001b[0;32m----> 4\u001b[0;31m \u001b[0my\u001b[0m \u001b[0;34m=\u001b[0m \u001b[0mhistoric_df\u001b[0m\u001b[0;34m[\u001b[0m\u001b[0;34m'status_binary'\u001b[0m\u001b[0;34m]\u001b[0m\u001b[0;34m.\u001b[0m\u001b[0mvalues\u001b[0m\u001b[0;34m\u001b[0m\u001b[0m\n\u001b[0m\u001b[1;32m      5\u001b[0m \u001b[0;34m\u001b[0m\u001b[0m\n\u001b[1;32m      6\u001b[0m \u001b[0;31m# Create dummy variables and combine with quantitative into predictors matrix\u001b[0m\u001b[0;34m\u001b[0m\u001b[0;34m\u001b[0m\u001b[0m\n",
      "\u001b[0;31mNameError\u001b[0m: name 'historic_df' is not defined"
     ]
    }
   ],
   "source": [
    "historic_df = df[~df['status'].isin(['late (31-120 days)','current','in grace period','late (16-30 days)'])]\n",
    "open_df = df[~df['status'].isin(['fully paid','default','charged off'])]\n",
    "\n",
    "# Define predictors and response for feature selection\n",
    "logistic = LogisticRegression()\n",
    "\n",
    "# define response variable\n",
    "y = historic_df['status_binary'].values\n",
    "\n",
    "# Create dummy variables and combine with quantitative into predictors matrix\n",
    "categories = historic_df[['is_inc_v','home_ownership','purpose','addr_state','sub_grade']]\n",
    "categories = pd.get_dummies(categories, dummy_na = True)\n",
    "quant = historic_df[['funded_amnt', 'term', 'int_rate','emp_length_num','dti', 'open_acc','total_acc']]\n",
    "X = pd.concat([quant,categories], axis = 1)\n",
    "\n",
    "# Fit a logistic model (without using cross validation)\n",
    "x_train, x_test, y_train, y_test = train_test_split(X, y, test_size=0.25, random_state=62)\n",
    "model = logistic.fit(x_train,y_train)\n",
    "preds = logistic.predict(x_test)\n",
    "\n",
    "\n",
    "#calculate model performance results\n",
    "results = confusion_matrix(y_test,preds)\n",
    "tn = results[1,1]\n",
    "tp = results[0,0]\n",
    "fp = results[0,1]\n",
    "fn = results[1,0]\n",
    "\n",
    "accuracy = (tp+tn)/(tp+tn+fp+fn)\n",
    "precision = tp/(tp+fp)\n",
    "recall = tp/(tp+fn)\n",
    "\n",
    "X2 = open_df.drop(['status','member_id','issue_d','last_pymnt_d','next_pymnt_d',\n",
    "                   'last_credit_pull_d','final_d','earliest_cr_line','is_inc_v','home_ownership',\n",
    "                   'addr_state','purpose','sub_grade'],axis = 1)\n",
    "categories2 = open_df[['is_inc_v','home_ownership','purpose','addr_state','sub_grade']]\n",
    "quant2 = open_df[['funded_amnt', 'term', 'int_rate','emp_length_num','dti', 'open_acc','total_acc']]\n",
    "categories2 = pd.get_dummies(categories2, dummy_na = True)\n",
    "X2 = pd.concat([quant2,categories2], axis = 1)\n",
    "defaults = logistic.predict(X2)\n",
    "open_df['predict'] = logistic.predict(X2)\n",
    "\n",
    "df = pd.concat([open_df, historic_df])\n",
    "an_fill = {\n",
    "        'predict': -1,\n",
    "    }\n",
    "df.fillna(nan_fill, inplace=True)"
   ]
  },
  {
   "cell_type": "code",
   "execution_count": 15,
   "metadata": {
    "collapsed": true
   },
   "outputs": [],
   "source": [
    "# Confusion Matrix\n",
    "from sklearn.metrics import confusion_matrix\n",
    "import itertools\n",
    "def plot_confusion_matrix(cm, classes, normalize=False, title='Confusion matrix', cmap=plt.cm.Blues):\n",
    "    \"\"\"\n",
    "    This function prints and plots the confusion matrix.\n",
    "    Normalization can be applied by setting `normalize=True`.\n",
    "    \n",
    "    Input: cm (confusion matrix), title (str), cmap ()\n",
    "    \"\"\"\n",
    "    plt.imshow(cm, interpolation='nearest', cmap=cmap)\n",
    "    plt.title(title)\n",
    "    plt.colorbar()\n",
    "    tick_marks = np.arange(len(classes))\n",
    "    plt.xticks(tick_marks, classes, rotation=45)\n",
    "    plt.yticks(tick_marks, classes)\n",
    "\n",
    "    if normalize:\n",
    "        cm = cm.astype('float') / cm.sum(axis=1)[:, np.newaxis]\n",
    "        print(\"Normalized confusion matrix\")\n",
    "    else:\n",
    "        print('Confusion matrix, without normalization')\n",
    "\n",
    "    print(cm)\n",
    "\n",
    "    thresh = cm.max() / 2.\n",
    "    for i, j in itertools.product(range(cm.shape[0]), range(cm.shape[1])):\n",
    "        plt.text(j, i, cm[i, j],\n",
    "                 horizontalalignment=\"center\",\n",
    "                 color=\"white\" if cm[i, j] > thresh else \"black\")\n",
    "\n",
    "    plt.tight_layout()\n",
    "    plt.ylabel('True label')\n",
    "    plt.xlabel('Predicted label')"
   ]
  },
  {
   "cell_type": "code",
   "execution_count": 16,
   "metadata": {},
   "outputs": [
    {
     "name": "stdout",
     "output_type": "stream",
     "text": [
      "Confusion matrix, without normalization\n",
      "[[24742    66]\n",
      " [ 5797    38]]\n"
     ]
    },
    {
     "data": {
      "image/png": "[encoded data removed]",
      "text/plain": [
       "<matplotlib.figure.Figure at 0x6ccbb38>"
      ]
     },
     "metadata": {},
     "output_type": "display_data"
    }
   ],
   "source": [
    "#plot the matrix\n",
    "plot_confusion_matrix(confusion_matrix(y_test, preds), ['D', 'ND'])"
   ]
  },
  {
   "cell_type": "code",
   "execution_count": 2,
   "metadata": {},
   "outputs": [
    {
     "ename": "NameError",
     "evalue": "name 'y_test' is not defined",
     "output_type": "error",
     "traceback": [
      "\u001b[0;31m---------------------------------------------------------------------------\u001b[0m",
      "\u001b[0;31mNameError\u001b[0m                                 Traceback (most recent call last)",
      "\u001b[0;32m<ipython-input-2-2d68712f0b8e>\u001b[0m in \u001b[0;36m<module>\u001b[0;34m()\u001b[0m\n\u001b[1;32m      1\u001b[0m \u001b[0;32mfrom\u001b[0m \u001b[0msklearn\u001b[0m\u001b[0;34m.\u001b[0m\u001b[0mmetrics\u001b[0m \u001b[0;32mimport\u001b[0m \u001b[0mconfusion_matrix\u001b[0m\u001b[0;34m\u001b[0m\u001b[0m\n\u001b[1;32m      2\u001b[0m \u001b[0;31m#calculate model performance results\u001b[0m\u001b[0;34m\u001b[0m\u001b[0;34m\u001b[0m\u001b[0m\n\u001b[0;32m----> 3\u001b[0;31m \u001b[0mresults\u001b[0m \u001b[0;34m=\u001b[0m \u001b[0mconfusion_matrix\u001b[0m\u001b[0;34m(\u001b[0m\u001b[0my_test\u001b[0m\u001b[0;34m,\u001b[0m\u001b[0mpreds\u001b[0m\u001b[0;34m)\u001b[0m\u001b[0;34m\u001b[0m\u001b[0m\n\u001b[0m\u001b[1;32m      4\u001b[0m \u001b[0mtn\u001b[0m \u001b[0;34m=\u001b[0m \u001b[0mresults\u001b[0m\u001b[0;34m[\u001b[0m\u001b[0;36m1\u001b[0m\u001b[0;34m,\u001b[0m\u001b[0;36m1\u001b[0m\u001b[0;34m]\u001b[0m\u001b[0;34m\u001b[0m\u001b[0m\n\u001b[1;32m      5\u001b[0m \u001b[0mtp\u001b[0m \u001b[0;34m=\u001b[0m \u001b[0mresults\u001b[0m\u001b[0;34m[\u001b[0m\u001b[0;36m0\u001b[0m\u001b[0;34m,\u001b[0m\u001b[0;36m0\u001b[0m\u001b[0;34m]\u001b[0m\u001b[0;34m\u001b[0m\u001b[0m\n",
      "\u001b[0;31mNameError\u001b[0m: name 'y_test' is not defined"
     ]
    }
   ],
   "source": [
    "from sklearn.metrics import confusion_matrix\n",
    "#calculate model performance results\n",
    "results = confusion_matrix(y_test,preds)\n",
    "tn = results[1,1]\n",
    "tp = results[0,0]\n",
    "fp = results[0,1]\n",
    "fn = results[1,0]\n",
    "print(\"TN\", tn)\n",
    "print(\"TP\", tp)\n",
    "print(\"FP\",fp)\n",
    "print(\"FN\",fn)\n",
    "accuracy = (tp+tn)/(tp+tn+fp+fn)\n",
    "precision = tp/(tp+fp)\n",
    "recall = tp/(tp+fn)\n",
    "print(\"Accuracy\",accuracy)\n",
    "print(\"Precision\",precision)\n",
    "print(\"Recall\",recall)\n",
    "\n",
    "#30643\n"
   ]
  },
  {
   "cell_type": "code",
   "execution_count": 18,
   "metadata": {
    "collapsed": true
   },
   "outputs": [],
   "source": [
    "# Set up dataset of current loans to predict values for\n",
    "df2 = df2[~df2['status'].isin(['fully paid','default','charged off'])]\n",
    "X2 = open_df.drop(['status','member_id','issue_d','last_pymnt_d','next_pymnt_d','last_credit_pull_d','final_d','earliest_cr_line','is_inc_v','home_ownership','addr_state','purpose','sub_grade'],axis = 1)\n",
    "categories2 = open_df[['is_inc_v','home_ownership','purpose','addr_state','sub_grade']]\n",
    "quant2 = open_df[['funded_amnt', 'term', 'int_rate','emp_length_num','dti', 'open_acc','total_acc']]\n",
    "categories2 = pd.get_dummies(categories2, dummy_na = True)\n",
    "X2 = pd.concat([quant2,categories2], axis = 1)"
   ]
  },
  {
   "cell_type": "code",
   "execution_count": 19,
   "metadata": {},
   "outputs": [
    {
     "data": {
      "text/plain": [
       "1316"
      ]
     },
     "execution_count": 19,
     "metadata": {},
     "output_type": "execute_result"
    }
   ],
   "source": [
    "# Response variable for current loans\n",
    "defaults = logistic.predict(X2)\n",
    "np.sum(defaults)"
   ]
  },
  {
   "cell_type": "code",
   "execution_count": null,
   "metadata": {
    "collapsed": true
   },
   "outputs": [],
   "source": [
    "#Odds for each feature\n",
    "np.exp(coefficients)"
   ]
  },
  {
   "cell_type": "code",
   "execution_count": null,
   "metadata": {
    "collapsed": true
   },
   "outputs": [],
   "source": []
  }
 ],
 "metadata": {
  "kernelspec": {
   "display_name": "Python 3",
   "language": "python",
   "name": "python3"
  },
  "language_info": {
   "codemirror_mode": {
    "name": "ipython",
    "version": 3
   },
   "file_extension": ".py",
   "mimetype": "text/x-python",
   "name": "python",
   "nbconvert_exporter": "python",
   "pygments_lexer": "ipython3",
   "version": "3.6.4"
  }
 },
 "nbformat": 4,
 "nbformat_minor": 2
}
